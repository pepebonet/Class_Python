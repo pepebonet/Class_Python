{
 "cells": [
  {
   "cell_type": "markdown",
   "id": "7cb914b1",
   "metadata": {},
   "source": [
    "# Introduction to Pandas"
   ]
  },
  {
   "cell_type": "markdown",
   "id": "96418ff2",
   "metadata": {},
   "source": [
    "Pandas is a Python package that provides fast, flexible, and expressive data structures designed to make working with \"relational\" or \"labeled\" data both easy and intuitive"
   ]
  },
  {
   "cell_type": "markdown",
   "id": "5eb5b1b7",
   "metadata": {},
   "source": [
    "### Notebook lessons \n",
    "\n",
    "**1.- Load a csv/tsv/excel file and explore it**\n",
    "\n",
    "**2.- Basic Data Exploration**\n",
    "\n",
    "**3.- Column & row operations**\n",
    "\n",
    "**4.- Groupby, apply & Lambda function**"
   ]
  },
  {
   "cell_type": "markdown",
   "id": "7e0c836b",
   "metadata": {},
   "source": [
    "## 1.- Load a csv/tsv/excel file and explore it"
   ]
  },
  {
   "cell_type": "markdown",
   "id": "66d56f0a",
   "metadata": {},
   "source": [
    "The first thing that needs to be done is to load the package so that it can be used. As a convention the **pandas library is always imported as pd**"
   ]
  },
  {
   "cell_type": "code",
   "execution_count": 150,
   "id": "ebe45645",
   "metadata": {},
   "outputs": [],
   "source": [
    "import pandas as pd\n",
    "import matplotlib.pyplot as plt"
   ]
  },
  {
   "cell_type": "markdown",
   "id": "a50f407d",
   "metadata": {},
   "source": [
    "After we can use the package the initial step is to load the dataset that we will use. To do so we use the function **read_csv** from pandas. "
   ]
  },
  {
   "cell_type": "code",
   "execution_count": 151,
   "id": "545d4f98",
   "metadata": {},
   "outputs": [],
   "source": [
    "df = pd.read_csv('../datasets/Dataset_credit_scoring.tsv', sep='\\t')"
   ]
  },
  {
   "cell_type": "code",
   "execution_count": 152,
   "id": "8b405e02",
   "metadata": {},
   "outputs": [],
   "source": [
    "df_excel = pd.read_excel('../datasets/Dataset_credit_scoring.xlsx')"
   ]
  },
  {
   "cell_type": "code",
   "execution_count": 153,
   "id": "52c8053e",
   "metadata": {},
   "outputs": [
    {
     "data": {
      "text/html": [
       "<div>\n",
       "<style scoped>\n",
       "    .dataframe tbody tr th:only-of-type {\n",
       "        vertical-align: middle;\n",
       "    }\n",
       "\n",
       "    .dataframe tbody tr th {\n",
       "        vertical-align: top;\n",
       "    }\n",
       "\n",
       "    .dataframe thead th {\n",
       "        text-align: right;\n",
       "    }\n",
       "</style>\n",
       "<table border=\"1\" class=\"dataframe\">\n",
       "  <thead>\n",
       "    <tr style=\"text-align: right;\">\n",
       "      <th></th>\n",
       "      <th>Occupation</th>\n",
       "      <th>Age</th>\n",
       "      <th>Loan_Salary_ratio</th>\n",
       "      <th>Outcome</th>\n",
       "    </tr>\n",
       "  </thead>\n",
       "  <tbody>\n",
       "    <tr>\n",
       "      <th>0</th>\n",
       "      <td>Industrial</td>\n",
       "      <td>34</td>\n",
       "      <td>2.96</td>\n",
       "      <td>Repay</td>\n",
       "    </tr>\n",
       "    <tr>\n",
       "      <th>1</th>\n",
       "      <td>Professional</td>\n",
       "      <td>41</td>\n",
       "      <td>4.64</td>\n",
       "      <td>Default</td>\n",
       "    </tr>\n",
       "    <tr>\n",
       "      <th>2</th>\n",
       "      <td>Professional</td>\n",
       "      <td>36</td>\n",
       "      <td>3.22</td>\n",
       "      <td>Default</td>\n",
       "    </tr>\n",
       "    <tr>\n",
       "      <th>3</th>\n",
       "      <td>Professional</td>\n",
       "      <td>41</td>\n",
       "      <td>3.11</td>\n",
       "      <td>Default</td>\n",
       "    </tr>\n",
       "    <tr>\n",
       "      <th>4</th>\n",
       "      <td>Industrial</td>\n",
       "      <td>48</td>\n",
       "      <td>3.80</td>\n",
       "      <td>Default</td>\n",
       "    </tr>\n",
       "  </tbody>\n",
       "</table>\n",
       "</div>"
      ],
      "text/plain": [
       "     Occupation  Age  Loan_Salary_ratio  Outcome\n",
       "0    Industrial   34               2.96    Repay\n",
       "1  Professional   41               4.64  Default\n",
       "2  Professional   36               3.22  Default\n",
       "3  Professional   41               3.11  Default\n",
       "4    Industrial   48               3.80  Default"
      ]
     },
     "execution_count": 153,
     "metadata": {},
     "output_type": "execute_result"
    }
   ],
   "source": [
    "df_excel.head()"
   ]
  },
  {
   "cell_type": "markdown",
   "id": "091c0553",
   "metadata": {},
   "source": [
    "## 2.- Basic Data Exploration"
   ]
  },
  {
   "cell_type": "markdown",
   "id": "2dd8597c",
   "metadata": {},
   "source": [
    "The next step is to explore the data. To do so we normally employ some simple functions such as head(), info(), describe(), dtypes, columns, index, "
   ]
  },
  {
   "cell_type": "code",
   "execution_count": 154,
   "id": "8c42350c",
   "metadata": {},
   "outputs": [
    {
     "data": {
      "text/html": [
       "<div>\n",
       "<style scoped>\n",
       "    .dataframe tbody tr th:only-of-type {\n",
       "        vertical-align: middle;\n",
       "    }\n",
       "\n",
       "    .dataframe tbody tr th {\n",
       "        vertical-align: top;\n",
       "    }\n",
       "\n",
       "    .dataframe thead th {\n",
       "        text-align: right;\n",
       "    }\n",
       "</style>\n",
       "<table border=\"1\" class=\"dataframe\">\n",
       "  <thead>\n",
       "    <tr style=\"text-align: right;\">\n",
       "      <th></th>\n",
       "      <th>Occupation</th>\n",
       "      <th>Age</th>\n",
       "      <th>Loan_Salary_ratio</th>\n",
       "      <th>Outcome</th>\n",
       "    </tr>\n",
       "  </thead>\n",
       "  <tbody>\n",
       "    <tr>\n",
       "      <th>0</th>\n",
       "      <td>Industrial</td>\n",
       "      <td>34</td>\n",
       "      <td>2.96</td>\n",
       "      <td>Repay</td>\n",
       "    </tr>\n",
       "    <tr>\n",
       "      <th>1</th>\n",
       "      <td>Professional</td>\n",
       "      <td>41</td>\n",
       "      <td>4.64</td>\n",
       "      <td>Default</td>\n",
       "    </tr>\n",
       "    <tr>\n",
       "      <th>2</th>\n",
       "      <td>Professional</td>\n",
       "      <td>36</td>\n",
       "      <td>3.22</td>\n",
       "      <td>Default</td>\n",
       "    </tr>\n",
       "    <tr>\n",
       "      <th>3</th>\n",
       "      <td>Professional</td>\n",
       "      <td>41</td>\n",
       "      <td>3.11</td>\n",
       "      <td>Default</td>\n",
       "    </tr>\n",
       "    <tr>\n",
       "      <th>4</th>\n",
       "      <td>Industrial</td>\n",
       "      <td>48</td>\n",
       "      <td>3.80</td>\n",
       "      <td>Default</td>\n",
       "    </tr>\n",
       "  </tbody>\n",
       "</table>\n",
       "</div>"
      ],
      "text/plain": [
       "     Occupation  Age  Loan_Salary_ratio  Outcome\n",
       "0    Industrial   34               2.96    Repay\n",
       "1  Professional   41               4.64  Default\n",
       "2  Professional   36               3.22  Default\n",
       "3  Professional   41               3.11  Default\n",
       "4    Industrial   48               3.80  Default"
      ]
     },
     "execution_count": 154,
     "metadata": {},
     "output_type": "execute_result"
    }
   ],
   "source": [
    "df.head()"
   ]
  },
  {
   "cell_type": "code",
   "execution_count": 155,
   "id": "bc3d5cfb",
   "metadata": {},
   "outputs": [
    {
     "data": {
      "text/html": [
       "<div>\n",
       "<style scoped>\n",
       "    .dataframe tbody tr th:only-of-type {\n",
       "        vertical-align: middle;\n",
       "    }\n",
       "\n",
       "    .dataframe tbody tr th {\n",
       "        vertical-align: top;\n",
       "    }\n",
       "\n",
       "    .dataframe thead th {\n",
       "        text-align: right;\n",
       "    }\n",
       "</style>\n",
       "<table border=\"1\" class=\"dataframe\">\n",
       "  <thead>\n",
       "    <tr style=\"text-align: right;\">\n",
       "      <th></th>\n",
       "      <th>Occupation</th>\n",
       "      <th>Age</th>\n",
       "      <th>Loan_Salary_ratio</th>\n",
       "      <th>Outcome</th>\n",
       "    </tr>\n",
       "  </thead>\n",
       "  <tbody>\n",
       "    <tr>\n",
       "      <th>5</th>\n",
       "      <td>Industrial</td>\n",
       "      <td>61</td>\n",
       "      <td>2.53</td>\n",
       "      <td>Repay</td>\n",
       "    </tr>\n",
       "    <tr>\n",
       "      <th>6</th>\n",
       "      <td>Professional</td>\n",
       "      <td>37</td>\n",
       "      <td>1.50</td>\n",
       "      <td>Repay</td>\n",
       "    </tr>\n",
       "    <tr>\n",
       "      <th>7</th>\n",
       "      <td>Professional</td>\n",
       "      <td>40</td>\n",
       "      <td>1.93</td>\n",
       "      <td>Repay</td>\n",
       "    </tr>\n",
       "    <tr>\n",
       "      <th>8</th>\n",
       "      <td>Industrial</td>\n",
       "      <td>33</td>\n",
       "      <td>5.25</td>\n",
       "      <td>Default</td>\n",
       "    </tr>\n",
       "    <tr>\n",
       "      <th>9</th>\n",
       "      <td>Industrial</td>\n",
       "      <td>32</td>\n",
       "      <td>4.15</td>\n",
       "      <td>Default</td>\n",
       "    </tr>\n",
       "  </tbody>\n",
       "</table>\n",
       "</div>"
      ],
      "text/plain": [
       "     Occupation  Age  Loan_Salary_ratio  Outcome\n",
       "5    Industrial   61               2.53    Repay\n",
       "6  Professional   37               1.50    Repay\n",
       "7  Professional   40               1.93    Repay\n",
       "8    Industrial   33               5.25  Default\n",
       "9    Industrial   32               4.15  Default"
      ]
     },
     "execution_count": 155,
     "metadata": {},
     "output_type": "execute_result"
    }
   ],
   "source": [
    "df.tail()"
   ]
  },
  {
   "cell_type": "code",
   "execution_count": 156,
   "id": "4e60288f",
   "metadata": {},
   "outputs": [
    {
     "data": {
      "text/html": [
       "<div>\n",
       "<style scoped>\n",
       "    .dataframe tbody tr th:only-of-type {\n",
       "        vertical-align: middle;\n",
       "    }\n",
       "\n",
       "    .dataframe tbody tr th {\n",
       "        vertical-align: top;\n",
       "    }\n",
       "\n",
       "    .dataframe thead th {\n",
       "        text-align: right;\n",
       "    }\n",
       "</style>\n",
       "<table border=\"1\" class=\"dataframe\">\n",
       "  <thead>\n",
       "    <tr style=\"text-align: right;\">\n",
       "      <th></th>\n",
       "      <th>Occupation</th>\n",
       "      <th>Age</th>\n",
       "      <th>Loan_Salary_ratio</th>\n",
       "      <th>Outcome</th>\n",
       "    </tr>\n",
       "  </thead>\n",
       "  <tbody>\n",
       "    <tr>\n",
       "      <th>0</th>\n",
       "      <td>Industrial</td>\n",
       "      <td>34</td>\n",
       "      <td>2.96</td>\n",
       "      <td>Repay</td>\n",
       "    </tr>\n",
       "    <tr>\n",
       "      <th>1</th>\n",
       "      <td>Professional</td>\n",
       "      <td>41</td>\n",
       "      <td>4.64</td>\n",
       "      <td>Default</td>\n",
       "    </tr>\n",
       "    <tr>\n",
       "      <th>2</th>\n",
       "      <td>Professional</td>\n",
       "      <td>36</td>\n",
       "      <td>3.22</td>\n",
       "      <td>Default</td>\n",
       "    </tr>\n",
       "    <tr>\n",
       "      <th>3</th>\n",
       "      <td>Professional</td>\n",
       "      <td>41</td>\n",
       "      <td>3.11</td>\n",
       "      <td>Default</td>\n",
       "    </tr>\n",
       "    <tr>\n",
       "      <th>4</th>\n",
       "      <td>Industrial</td>\n",
       "      <td>48</td>\n",
       "      <td>3.80</td>\n",
       "      <td>Default</td>\n",
       "    </tr>\n",
       "    <tr>\n",
       "      <th>5</th>\n",
       "      <td>Industrial</td>\n",
       "      <td>61</td>\n",
       "      <td>2.53</td>\n",
       "      <td>Repay</td>\n",
       "    </tr>\n",
       "    <tr>\n",
       "      <th>6</th>\n",
       "      <td>Professional</td>\n",
       "      <td>37</td>\n",
       "      <td>1.50</td>\n",
       "      <td>Repay</td>\n",
       "    </tr>\n",
       "    <tr>\n",
       "      <th>7</th>\n",
       "      <td>Professional</td>\n",
       "      <td>40</td>\n",
       "      <td>1.93</td>\n",
       "      <td>Repay</td>\n",
       "    </tr>\n",
       "  </tbody>\n",
       "</table>\n",
       "</div>"
      ],
      "text/plain": [
       "     Occupation  Age  Loan_Salary_ratio  Outcome\n",
       "0    Industrial   34               2.96    Repay\n",
       "1  Professional   41               4.64  Default\n",
       "2  Professional   36               3.22  Default\n",
       "3  Professional   41               3.11  Default\n",
       "4    Industrial   48               3.80  Default\n",
       "5    Industrial   61               2.53    Repay\n",
       "6  Professional   37               1.50    Repay\n",
       "7  Professional   40               1.93    Repay"
      ]
     },
     "execution_count": 156,
     "metadata": {},
     "output_type": "execute_result"
    }
   ],
   "source": [
    "df.head(8)"
   ]
  },
  {
   "cell_type": "code",
   "execution_count": 157,
   "id": "24702ef7",
   "metadata": {},
   "outputs": [
    {
     "name": "stdout",
     "output_type": "stream",
     "text": [
      "<class 'pandas.core.frame.DataFrame'>\n",
      "RangeIndex: 10 entries, 0 to 9\n",
      "Data columns (total 4 columns):\n",
      " #   Column             Non-Null Count  Dtype  \n",
      "---  ------             --------------  -----  \n",
      " 0   Occupation         10 non-null     object \n",
      " 1   Age                10 non-null     int64  \n",
      " 2   Loan_Salary_ratio  10 non-null     float64\n",
      " 3   Outcome            10 non-null     object \n",
      "dtypes: float64(1), int64(1), object(2)\n",
      "memory usage: 448.0+ bytes\n"
     ]
    }
   ],
   "source": [
    "df.info()"
   ]
  },
  {
   "cell_type": "code",
   "execution_count": 158,
   "id": "2d091560",
   "metadata": {},
   "outputs": [
    {
     "data": {
      "text/plain": [
       "Index(['Occupation', 'Age', 'Loan_Salary_ratio', 'Outcome'], dtype='object')"
      ]
     },
     "execution_count": 158,
     "metadata": {},
     "output_type": "execute_result"
    }
   ],
   "source": [
    "df.columns"
   ]
  },
  {
   "cell_type": "code",
   "execution_count": 159,
   "id": "644579e6",
   "metadata": {},
   "outputs": [
    {
     "data": {
      "text/plain": [
       "RangeIndex(start=0, stop=10, step=1)"
      ]
     },
     "execution_count": 159,
     "metadata": {},
     "output_type": "execute_result"
    }
   ],
   "source": [
    "df.index"
   ]
  },
  {
   "cell_type": "code",
   "execution_count": 160,
   "id": "0cd0aa65",
   "metadata": {},
   "outputs": [
    {
     "data": {
      "text/html": [
       "<div>\n",
       "<style scoped>\n",
       "    .dataframe tbody tr th:only-of-type {\n",
       "        vertical-align: middle;\n",
       "    }\n",
       "\n",
       "    .dataframe tbody tr th {\n",
       "        vertical-align: top;\n",
       "    }\n",
       "\n",
       "    .dataframe thead th {\n",
       "        text-align: right;\n",
       "    }\n",
       "</style>\n",
       "<table border=\"1\" class=\"dataframe\">\n",
       "  <thead>\n",
       "    <tr style=\"text-align: right;\">\n",
       "      <th></th>\n",
       "      <th>Age</th>\n",
       "      <th>Loan_Salary_ratio</th>\n",
       "    </tr>\n",
       "  </thead>\n",
       "  <tbody>\n",
       "    <tr>\n",
       "      <th>count</th>\n",
       "      <td>10.000000</td>\n",
       "      <td>10.00000</td>\n",
       "    </tr>\n",
       "    <tr>\n",
       "      <th>mean</th>\n",
       "      <td>40.300000</td>\n",
       "      <td>3.30900</td>\n",
       "    </tr>\n",
       "    <tr>\n",
       "      <th>std</th>\n",
       "      <td>8.692909</td>\n",
       "      <td>1.17557</td>\n",
       "    </tr>\n",
       "    <tr>\n",
       "      <th>min</th>\n",
       "      <td>32.000000</td>\n",
       "      <td>1.50000</td>\n",
       "    </tr>\n",
       "    <tr>\n",
       "      <th>25%</th>\n",
       "      <td>34.500000</td>\n",
       "      <td>2.63750</td>\n",
       "    </tr>\n",
       "    <tr>\n",
       "      <th>50%</th>\n",
       "      <td>38.500000</td>\n",
       "      <td>3.16500</td>\n",
       "    </tr>\n",
       "    <tr>\n",
       "      <th>75%</th>\n",
       "      <td>41.000000</td>\n",
       "      <td>4.06250</td>\n",
       "    </tr>\n",
       "    <tr>\n",
       "      <th>max</th>\n",
       "      <td>61.000000</td>\n",
       "      <td>5.25000</td>\n",
       "    </tr>\n",
       "  </tbody>\n",
       "</table>\n",
       "</div>"
      ],
      "text/plain": [
       "             Age  Loan_Salary_ratio\n",
       "count  10.000000           10.00000\n",
       "mean   40.300000            3.30900\n",
       "std     8.692909            1.17557\n",
       "min    32.000000            1.50000\n",
       "25%    34.500000            2.63750\n",
       "50%    38.500000            3.16500\n",
       "75%    41.000000            4.06250\n",
       "max    61.000000            5.25000"
      ]
     },
     "execution_count": 160,
     "metadata": {},
     "output_type": "execute_result"
    }
   ],
   "source": [
    "df.describe()"
   ]
  },
  {
   "cell_type": "markdown",
   "id": "f0d1f50c",
   "metadata": {},
   "source": [
    "## 3.- Row & Column Operations"
   ]
  },
  {
   "cell_type": "code",
   "execution_count": 161,
   "id": "b1657031",
   "metadata": {},
   "outputs": [
    {
     "data": {
      "text/plain": [
       "Index(['Occupation', 'Age', 'Loan_Salary_ratio', 'Outcome'], dtype='object')"
      ]
     },
     "execution_count": 161,
     "metadata": {},
     "output_type": "execute_result"
    }
   ],
   "source": [
    "df.columns"
   ]
  },
  {
   "cell_type": "code",
   "execution_count": 162,
   "id": "a9b7ef44",
   "metadata": {},
   "outputs": [
    {
     "data": {
      "text/plain": [
       "0      Repay\n",
       "1    Default\n",
       "2    Default\n",
       "3    Default\n",
       "4    Default\n",
       "5      Repay\n",
       "6      Repay\n",
       "7      Repay\n",
       "8    Default\n",
       "9    Default\n",
       "Name: Outcome, dtype: object"
      ]
     },
     "execution_count": 162,
     "metadata": {},
     "output_type": "execute_result"
    }
   ],
   "source": [
    "df['Outcome']"
   ]
  },
  {
   "cell_type": "code",
   "execution_count": 163,
   "id": "2046a5e0",
   "metadata": {},
   "outputs": [
    {
     "data": {
      "text/plain": [
       "Default    6\n",
       "Repay      4\n",
       "Name: Outcome, dtype: int64"
      ]
     },
     "execution_count": 163,
     "metadata": {},
     "output_type": "execute_result"
    }
   ],
   "source": [
    "df['Outcome'].value_counts()"
   ]
  },
  {
   "cell_type": "code",
   "execution_count": 164,
   "id": "eb4d3f73",
   "metadata": {},
   "outputs": [
    {
     "data": {
      "text/plain": [
       "array(['Repay', 'Default'], dtype=object)"
      ]
     },
     "execution_count": 164,
     "metadata": {},
     "output_type": "execute_result"
    }
   ],
   "source": [
    "df['Outcome'].unique()"
   ]
  },
  {
   "cell_type": "code",
   "execution_count": 165,
   "id": "5c6433bb",
   "metadata": {},
   "outputs": [
    {
     "data": {
      "text/plain": [
       "2"
      ]
     },
     "execution_count": 165,
     "metadata": {},
     "output_type": "execute_result"
    }
   ],
   "source": [
    "df['Outcome'].nunique()"
   ]
  },
  {
   "cell_type": "code",
   "execution_count": 166,
   "id": "adce435d",
   "metadata": {},
   "outputs": [
    {
     "name": "stdout",
     "output_type": "stream",
     "text": [
      "32 61\n"
     ]
    }
   ],
   "source": [
    "print(df['Age'].min(), df['Age'].max())"
   ]
  },
  {
   "cell_type": "code",
   "execution_count": 167,
   "id": "23a875b2",
   "metadata": {},
   "outputs": [],
   "source": [
    "import matplotlib.pyplot as plt"
   ]
  },
  {
   "cell_type": "code",
   "execution_count": 168,
   "id": "865d2395",
   "metadata": {},
   "outputs": [
    {
     "data": {
      "text/plain": [
       "<AxesSubplot:ylabel='Frequency'>"
      ]
     },
     "execution_count": 168,
     "metadata": {},
     "output_type": "execute_result"
    },
    {
     "data": {
      "image/png": "[encoded data removed]",
      "text/plain": [
       "<Figure size 432x288 with 1 Axes>"
      ]
     },
     "metadata": {
      "needs_background": "light"
     },
     "output_type": "display_data"
    }
   ],
   "source": [
    "df['Age'].plot(kind='hist')"
   ]
  },
  {
   "cell_type": "code",
   "execution_count": 169,
   "id": "14eddeec",
   "metadata": {},
   "outputs": [
    {
     "data": {
      "text/plain": [
       "<AxesSubplot:>"
      ]
     },
     "execution_count": 169,
     "metadata": {},
     "output_type": "execute_result"
    },
    {
     "data": {
      "image/png": "[encoded data removed]",
      "text/plain": [
       "<Figure size 432x288 with 1 Axes>"
      ]
     },
     "metadata": {
      "needs_background": "light"
     },
     "output_type": "display_data"
    }
   ],
   "source": [
    "df['Loan_Salary_ratio'].plot(kind = 'box')"
   ]
  },
  {
   "cell_type": "markdown",
   "id": "55ba82ca",
   "metadata": {},
   "source": [
    "Columns are the backbone for any AI or ML model. They represent the features of any possible the model. Therefore, it is important to work with them in pandas. In addition to the simple operations above, some more things can be done:\n",
    "\n",
    "- Separate dataframes\n",
    "- Filter data by selecting a certain number of columns or rows\n",
    "- Create new columns through an operation "
   ]
  },
  {
   "cell_type": "markdown",
   "id": "fbaed28c",
   "metadata": {},
   "source": [
    "### Separate dataframes"
   ]
  },
  {
   "cell_type": "code",
   "execution_count": 170,
   "id": "81f8fefc",
   "metadata": {},
   "outputs": [
    {
     "data": {
      "text/plain": [
       "0    False\n",
       "1     True\n",
       "2    False\n",
       "3     True\n",
       "4     True\n",
       "5     True\n",
       "6    False\n",
       "7    False\n",
       "8    False\n",
       "9    False\n",
       "Name: Age, dtype: bool"
      ]
     },
     "execution_count": 170,
     "metadata": {},
     "output_type": "execute_result"
    }
   ],
   "source": [
    "df['Age'] > 40"
   ]
  },
  {
   "cell_type": "code",
   "execution_count": 171,
   "id": "7aabad8f",
   "metadata": {},
   "outputs": [
    {
     "data": {
      "text/html": [
       "<div>\n",
       "<style scoped>\n",
       "    .dataframe tbody tr th:only-of-type {\n",
       "        vertical-align: middle;\n",
       "    }\n",
       "\n",
       "    .dataframe tbody tr th {\n",
       "        vertical-align: top;\n",
       "    }\n",
       "\n",
       "    .dataframe thead th {\n",
       "        text-align: right;\n",
       "    }\n",
       "</style>\n",
       "<table border=\"1\" class=\"dataframe\">\n",
       "  <thead>\n",
       "    <tr style=\"text-align: right;\">\n",
       "      <th></th>\n",
       "      <th>Occupation</th>\n",
       "      <th>Age</th>\n",
       "      <th>Loan_Salary_ratio</th>\n",
       "      <th>Outcome</th>\n",
       "    </tr>\n",
       "  </thead>\n",
       "  <tbody>\n",
       "    <tr>\n",
       "      <th>1</th>\n",
       "      <td>Professional</td>\n",
       "      <td>41</td>\n",
       "      <td>4.64</td>\n",
       "      <td>Default</td>\n",
       "    </tr>\n",
       "    <tr>\n",
       "      <th>3</th>\n",
       "      <td>Professional</td>\n",
       "      <td>41</td>\n",
       "      <td>3.11</td>\n",
       "      <td>Default</td>\n",
       "    </tr>\n",
       "    <tr>\n",
       "      <th>4</th>\n",
       "      <td>Industrial</td>\n",
       "      <td>48</td>\n",
       "      <td>3.80</td>\n",
       "      <td>Default</td>\n",
       "    </tr>\n",
       "    <tr>\n",
       "      <th>5</th>\n",
       "      <td>Industrial</td>\n",
       "      <td>61</td>\n",
       "      <td>2.53</td>\n",
       "      <td>Repay</td>\n",
       "    </tr>\n",
       "  </tbody>\n",
       "</table>\n",
       "</div>"
      ],
      "text/plain": [
       "     Occupation  Age  Loan_Salary_ratio  Outcome\n",
       "1  Professional   41               4.64  Default\n",
       "3  Professional   41               3.11  Default\n",
       "4    Industrial   48               3.80  Default\n",
       "5    Industrial   61               2.53    Repay"
      ]
     },
     "execution_count": 171,
     "metadata": {},
     "output_type": "execute_result"
    }
   ],
   "source": [
    "df_age_40 = df[df['Age'] > 40]\n",
    "df_age_40.head()"
   ]
  },
  {
   "cell_type": "markdown",
   "id": "eb6593e2",
   "metadata": {},
   "source": [
    "### Filter data by selecting a certain number of columns or rows"
   ]
  },
  {
   "cell_type": "code",
   "execution_count": 172,
   "id": "3aa526b3",
   "metadata": {},
   "outputs": [
    {
     "data": {
      "text/html": [
       "<div>\n",
       "<style scoped>\n",
       "    .dataframe tbody tr th:only-of-type {\n",
       "        vertical-align: middle;\n",
       "    }\n",
       "\n",
       "    .dataframe tbody tr th {\n",
       "        vertical-align: top;\n",
       "    }\n",
       "\n",
       "    .dataframe thead th {\n",
       "        text-align: right;\n",
       "    }\n",
       "</style>\n",
       "<table border=\"1\" class=\"dataframe\">\n",
       "  <thead>\n",
       "    <tr style=\"text-align: right;\">\n",
       "      <th></th>\n",
       "      <th>Age</th>\n",
       "      <th>Loan_Salary_ratio</th>\n",
       "      <th>Outcome</th>\n",
       "    </tr>\n",
       "  </thead>\n",
       "  <tbody>\n",
       "    <tr>\n",
       "      <th>0</th>\n",
       "      <td>34</td>\n",
       "      <td>2.96</td>\n",
       "      <td>Repay</td>\n",
       "    </tr>\n",
       "    <tr>\n",
       "      <th>1</th>\n",
       "      <td>41</td>\n",
       "      <td>4.64</td>\n",
       "      <td>Default</td>\n",
       "    </tr>\n",
       "    <tr>\n",
       "      <th>2</th>\n",
       "      <td>36</td>\n",
       "      <td>3.22</td>\n",
       "      <td>Default</td>\n",
       "    </tr>\n",
       "    <tr>\n",
       "      <th>3</th>\n",
       "      <td>41</td>\n",
       "      <td>3.11</td>\n",
       "      <td>Default</td>\n",
       "    </tr>\n",
       "    <tr>\n",
       "      <th>4</th>\n",
       "      <td>48</td>\n",
       "      <td>3.80</td>\n",
       "      <td>Default</td>\n",
       "    </tr>\n",
       "  </tbody>\n",
       "</table>\n",
       "</div>"
      ],
      "text/plain": [
       "   Age  Loan_Salary_ratio  Outcome\n",
       "0   34               2.96    Repay\n",
       "1   41               4.64  Default\n",
       "2   36               3.22  Default\n",
       "3   41               3.11  Default\n",
       "4   48               3.80  Default"
      ]
     },
     "execution_count": 172,
     "metadata": {},
     "output_type": "execute_result"
    }
   ],
   "source": [
    "new_df = df[['Age', 'Loan_Salary_ratio', 'Outcome']]\n",
    "new_df.head()"
   ]
  },
  {
   "cell_type": "code",
   "execution_count": 173,
   "id": "e176459e",
   "metadata": {},
   "outputs": [],
   "source": [
    "new_df.index = ['Ramon', 'Julio', 'Lorenzo', 'Paco', 'Maria', 'Laura', 'Ricardo', 'Ana', 'Julia', 'Rosa']"
   ]
  },
  {
   "cell_type": "code",
   "execution_count": 178,
   "id": "ae99ab9b",
   "metadata": {},
   "outputs": [
    {
     "data": {
      "text/html": [
       "<div>\n",
       "<style scoped>\n",
       "    .dataframe tbody tr th:only-of-type {\n",
       "        vertical-align: middle;\n",
       "    }\n",
       "\n",
       "    .dataframe tbody tr th {\n",
       "        vertical-align: top;\n",
       "    }\n",
       "\n",
       "    .dataframe thead th {\n",
       "        text-align: right;\n",
       "    }\n",
       "</style>\n",
       "<table border=\"1\" class=\"dataframe\">\n",
       "  <thead>\n",
       "    <tr style=\"text-align: right;\">\n",
       "      <th></th>\n",
       "      <th>Age</th>\n",
       "      <th>Loan_Salary_ratio</th>\n",
       "      <th>Outcome</th>\n",
       "    </tr>\n",
       "  </thead>\n",
       "  <tbody>\n",
       "    <tr>\n",
       "      <th>Ramon</th>\n",
       "      <td>34</td>\n",
       "      <td>2.96</td>\n",
       "      <td>Repay</td>\n",
       "    </tr>\n",
       "    <tr>\n",
       "      <th>Julio</th>\n",
       "      <td>41</td>\n",
       "      <td>4.64</td>\n",
       "      <td>Default</td>\n",
       "    </tr>\n",
       "    <tr>\n",
       "      <th>Lorenzo</th>\n",
       "      <td>36</td>\n",
       "      <td>3.22</td>\n",
       "      <td>Default</td>\n",
       "    </tr>\n",
       "    <tr>\n",
       "      <th>Paco</th>\n",
       "      <td>41</td>\n",
       "      <td>3.11</td>\n",
       "      <td>Default</td>\n",
       "    </tr>\n",
       "    <tr>\n",
       "      <th>Maria</th>\n",
       "      <td>48</td>\n",
       "      <td>3.80</td>\n",
       "      <td>Default</td>\n",
       "    </tr>\n",
       "  </tbody>\n",
       "</table>\n",
       "</div>"
      ],
      "text/plain": [
       "         Age  Loan_Salary_ratio  Outcome\n",
       "Ramon     34               2.96    Repay\n",
       "Julio     41               4.64  Default\n",
       "Lorenzo   36               3.22  Default\n",
       "Paco      41               3.11  Default\n",
       "Maria     48               3.80  Default"
      ]
     },
     "execution_count": 178,
     "metadata": {},
     "output_type": "execute_result"
    }
   ],
   "source": [
    "new_df.head()"
   ]
  },
  {
   "cell_type": "code",
   "execution_count": 179,
   "id": "87642fc0",
   "metadata": {},
   "outputs": [
    {
     "data": {
      "text/plain": [
       "Age                     34\n",
       "Loan_Salary_ratio     2.96\n",
       "Outcome              Repay\n",
       "Name: Ramon, dtype: object"
      ]
     },
     "execution_count": 179,
     "metadata": {},
     "output_type": "execute_result"
    }
   ],
   "source": [
    "new_df.iloc[0]"
   ]
  },
  {
   "cell_type": "code",
   "execution_count": 180,
   "id": "6de3e25e",
   "metadata": {},
   "outputs": [
    {
     "data": {
      "text/plain": [
       "Age                     34\n",
       "Loan_Salary_ratio     2.96\n",
       "Outcome              Repay\n",
       "Name: Ramon, dtype: object"
      ]
     },
     "execution_count": 180,
     "metadata": {},
     "output_type": "execute_result"
    }
   ],
   "source": [
    "new_df.loc['Ramon']"
   ]
  },
  {
   "cell_type": "code",
   "execution_count": 181,
   "id": "93b5ac47",
   "metadata": {},
   "outputs": [
    {
     "data": {
      "text/html": [
       "<div>\n",
       "<style scoped>\n",
       "    .dataframe tbody tr th:only-of-type {\n",
       "        vertical-align: middle;\n",
       "    }\n",
       "\n",
       "    .dataframe tbody tr th {\n",
       "        vertical-align: top;\n",
       "    }\n",
       "\n",
       "    .dataframe thead th {\n",
       "        text-align: right;\n",
       "    }\n",
       "</style>\n",
       "<table border=\"1\" class=\"dataframe\">\n",
       "  <thead>\n",
       "    <tr style=\"text-align: right;\">\n",
       "      <th></th>\n",
       "      <th>Loan_Salary_ratio</th>\n",
       "      <th>Outcome</th>\n",
       "    </tr>\n",
       "  </thead>\n",
       "  <tbody>\n",
       "    <tr>\n",
       "      <th>Ramon</th>\n",
       "      <td>2.96</td>\n",
       "      <td>Repay</td>\n",
       "    </tr>\n",
       "    <tr>\n",
       "      <th>Julio</th>\n",
       "      <td>4.64</td>\n",
       "      <td>Default</td>\n",
       "    </tr>\n",
       "    <tr>\n",
       "      <th>Lorenzo</th>\n",
       "      <td>3.22</td>\n",
       "      <td>Default</td>\n",
       "    </tr>\n",
       "    <tr>\n",
       "      <th>Paco</th>\n",
       "      <td>3.11</td>\n",
       "      <td>Default</td>\n",
       "    </tr>\n",
       "    <tr>\n",
       "      <th>Maria</th>\n",
       "      <td>3.80</td>\n",
       "      <td>Default</td>\n",
       "    </tr>\n",
       "    <tr>\n",
       "      <th>Laura</th>\n",
       "      <td>2.53</td>\n",
       "      <td>Repay</td>\n",
       "    </tr>\n",
       "    <tr>\n",
       "      <th>Ricardo</th>\n",
       "      <td>1.50</td>\n",
       "      <td>Repay</td>\n",
       "    </tr>\n",
       "    <tr>\n",
       "      <th>Ana</th>\n",
       "      <td>1.93</td>\n",
       "      <td>Repay</td>\n",
       "    </tr>\n",
       "    <tr>\n",
       "      <th>Julia</th>\n",
       "      <td>5.25</td>\n",
       "      <td>Default</td>\n",
       "    </tr>\n",
       "    <tr>\n",
       "      <th>Rosa</th>\n",
       "      <td>4.15</td>\n",
       "      <td>Default</td>\n",
       "    </tr>\n",
       "  </tbody>\n",
       "</table>\n",
       "</div>"
      ],
      "text/plain": [
       "         Loan_Salary_ratio  Outcome\n",
       "Ramon                 2.96    Repay\n",
       "Julio                 4.64  Default\n",
       "Lorenzo               3.22  Default\n",
       "Paco                  3.11  Default\n",
       "Maria                 3.80  Default\n",
       "Laura                 2.53    Repay\n",
       "Ricardo               1.50    Repay\n",
       "Ana                   1.93    Repay\n",
       "Julia                 5.25  Default\n",
       "Rosa                  4.15  Default"
      ]
     },
     "execution_count": 181,
     "metadata": {},
     "output_type": "execute_result"
    }
   ],
   "source": [
    "new_df.drop(['Age'], axis=1)"
   ]
  },
  {
   "cell_type": "code",
   "execution_count": 182,
   "id": "d13ff0a8",
   "metadata": {},
   "outputs": [
    {
     "data": {
      "text/html": [
       "<div>\n",
       "<style scoped>\n",
       "    .dataframe tbody tr th:only-of-type {\n",
       "        vertical-align: middle;\n",
       "    }\n",
       "\n",
       "    .dataframe tbody tr th {\n",
       "        vertical-align: top;\n",
       "    }\n",
       "\n",
       "    .dataframe thead th {\n",
       "        text-align: right;\n",
       "    }\n",
       "</style>\n",
       "<table border=\"1\" class=\"dataframe\">\n",
       "  <thead>\n",
       "    <tr style=\"text-align: right;\">\n",
       "      <th></th>\n",
       "      <th>Age</th>\n",
       "      <th>Loan_Salary_ratio</th>\n",
       "      <th>Outcome</th>\n",
       "    </tr>\n",
       "  </thead>\n",
       "  <tbody>\n",
       "    <tr>\n",
       "      <th>Julio</th>\n",
       "      <td>41</td>\n",
       "      <td>4.64</td>\n",
       "      <td>Default</td>\n",
       "    </tr>\n",
       "    <tr>\n",
       "      <th>Lorenzo</th>\n",
       "      <td>36</td>\n",
       "      <td>3.22</td>\n",
       "      <td>Default</td>\n",
       "    </tr>\n",
       "    <tr>\n",
       "      <th>Paco</th>\n",
       "      <td>41</td>\n",
       "      <td>3.11</td>\n",
       "      <td>Default</td>\n",
       "    </tr>\n",
       "    <tr>\n",
       "      <th>Maria</th>\n",
       "      <td>48</td>\n",
       "      <td>3.80</td>\n",
       "      <td>Default</td>\n",
       "    </tr>\n",
       "    <tr>\n",
       "      <th>Laura</th>\n",
       "      <td>61</td>\n",
       "      <td>2.53</td>\n",
       "      <td>Repay</td>\n",
       "    </tr>\n",
       "    <tr>\n",
       "      <th>Ricardo</th>\n",
       "      <td>37</td>\n",
       "      <td>1.50</td>\n",
       "      <td>Repay</td>\n",
       "    </tr>\n",
       "    <tr>\n",
       "      <th>Ana</th>\n",
       "      <td>40</td>\n",
       "      <td>1.93</td>\n",
       "      <td>Repay</td>\n",
       "    </tr>\n",
       "    <tr>\n",
       "      <th>Julia</th>\n",
       "      <td>33</td>\n",
       "      <td>5.25</td>\n",
       "      <td>Default</td>\n",
       "    </tr>\n",
       "    <tr>\n",
       "      <th>Rosa</th>\n",
       "      <td>32</td>\n",
       "      <td>4.15</td>\n",
       "      <td>Default</td>\n",
       "    </tr>\n",
       "  </tbody>\n",
       "</table>\n",
       "</div>"
      ],
      "text/plain": [
       "         Age  Loan_Salary_ratio  Outcome\n",
       "Julio     41               4.64  Default\n",
       "Lorenzo   36               3.22  Default\n",
       "Paco      41               3.11  Default\n",
       "Maria     48               3.80  Default\n",
       "Laura     61               2.53    Repay\n",
       "Ricardo   37               1.50    Repay\n",
       "Ana       40               1.93    Repay\n",
       "Julia     33               5.25  Default\n",
       "Rosa      32               4.15  Default"
      ]
     },
     "execution_count": 182,
     "metadata": {},
     "output_type": "execute_result"
    }
   ],
   "source": [
    "new_df.drop(['Ramon'])"
   ]
  },
  {
   "cell_type": "markdown",
   "id": "7675af12",
   "metadata": {},
   "source": [
    "### Create new columns through an operation"
   ]
  },
  {
   "cell_type": "code",
   "execution_count": 76,
   "id": "876b024e",
   "metadata": {},
   "outputs": [
    {
     "data": {
      "text/plain": [
       "0    11.486486\n",
       "1     8.836207\n",
       "2    11.180124\n",
       "3    13.183280\n",
       "4    12.631579\n",
       "5    24.110672\n",
       "6    24.666667\n",
       "7    20.725389\n",
       "8     6.285714\n",
       "9     7.710843\n",
       "dtype: float64"
      ]
     },
     "execution_count": 76,
     "metadata": {},
     "output_type": "execute_result"
    }
   ],
   "source": [
    "df['Age'] / df['Loan_Salary_ratio']"
   ]
  },
  {
   "cell_type": "code",
   "execution_count": 77,
   "id": "2078ba5a",
   "metadata": {},
   "outputs": [],
   "source": [
    "df['Age_Loan_Salary_ratio'] = df['Age'] / df['Loan_Salary_ratio']"
   ]
  },
  {
   "cell_type": "code",
   "execution_count": 78,
   "id": "3ef3b919",
   "metadata": {},
   "outputs": [
    {
     "data": {
      "text/html": [
       "<div>\n",
       "<style scoped>\n",
       "    .dataframe tbody tr th:only-of-type {\n",
       "        vertical-align: middle;\n",
       "    }\n",
       "\n",
       "    .dataframe tbody tr th {\n",
       "        vertical-align: top;\n",
       "    }\n",
       "\n",
       "    .dataframe thead th {\n",
       "        text-align: right;\n",
       "    }\n",
       "</style>\n",
       "<table border=\"1\" class=\"dataframe\">\n",
       "  <thead>\n",
       "    <tr style=\"text-align: right;\">\n",
       "      <th></th>\n",
       "      <th>Occupation</th>\n",
       "      <th>Age</th>\n",
       "      <th>Loan_Salary_ratio</th>\n",
       "      <th>Outcome</th>\n",
       "      <th>Age_Loan_Salary_ratio</th>\n",
       "    </tr>\n",
       "  </thead>\n",
       "  <tbody>\n",
       "    <tr>\n",
       "      <th>0</th>\n",
       "      <td>Industrial</td>\n",
       "      <td>34</td>\n",
       "      <td>2.96</td>\n",
       "      <td>Repay</td>\n",
       "      <td>11.486486</td>\n",
       "    </tr>\n",
       "    <tr>\n",
       "      <th>1</th>\n",
       "      <td>Professional</td>\n",
       "      <td>41</td>\n",
       "      <td>4.64</td>\n",
       "      <td>Default</td>\n",
       "      <td>8.836207</td>\n",
       "    </tr>\n",
       "    <tr>\n",
       "      <th>2</th>\n",
       "      <td>Professional</td>\n",
       "      <td>36</td>\n",
       "      <td>3.22</td>\n",
       "      <td>Default</td>\n",
       "      <td>11.180124</td>\n",
       "    </tr>\n",
       "    <tr>\n",
       "      <th>3</th>\n",
       "      <td>Professional</td>\n",
       "      <td>41</td>\n",
       "      <td>3.11</td>\n",
       "      <td>Default</td>\n",
       "      <td>13.183280</td>\n",
       "    </tr>\n",
       "    <tr>\n",
       "      <th>4</th>\n",
       "      <td>Industrial</td>\n",
       "      <td>48</td>\n",
       "      <td>3.80</td>\n",
       "      <td>Default</td>\n",
       "      <td>12.631579</td>\n",
       "    </tr>\n",
       "  </tbody>\n",
       "</table>\n",
       "</div>"
      ],
      "text/plain": [
       "     Occupation  Age  Loan_Salary_ratio  Outcome  Age_Loan_Salary_ratio\n",
       "0    Industrial   34               2.96    Repay              11.486486\n",
       "1  Professional   41               4.64  Default               8.836207\n",
       "2  Professional   36               3.22  Default              11.180124\n",
       "3  Professional   41               3.11  Default              13.183280\n",
       "4    Industrial   48               3.80  Default              12.631579"
      ]
     },
     "execution_count": 78,
     "metadata": {},
     "output_type": "execute_result"
    }
   ],
   "source": [
    "df.head()"
   ]
  },
  {
   "cell_type": "markdown",
   "id": "4c309af6",
   "metadata": {},
   "source": [
    "## 4.- Groupby, apply & Lambda function"
   ]
  },
  {
   "cell_type": "markdown",
   "id": "34d14584",
   "metadata": {},
   "source": [
    "When analyzing data, you often calculate summary statistics (aggregations like the mean, max, ...). As we have seen before, we can easily calculate such a statistic for a Series or column using one of the many available methods. For example:"
   ]
  },
  {
   "cell_type": "code",
   "execution_count": 185,
   "id": "391415ce",
   "metadata": {},
   "outputs": [
    {
     "data": {
      "text/plain": [
       "40.3"
      ]
     },
     "execution_count": 185,
     "metadata": {},
     "output_type": "execute_result"
    }
   ],
   "source": [
    "df['Age'].mean()"
   ]
  },
  {
   "cell_type": "markdown",
   "id": "3a7bc889",
   "metadata": {},
   "source": [
    "However, in many cases your data has certain groups in it, and in that case, you may want to calculate this statistic for each of the groups."
   ]
  },
  {
   "cell_type": "code",
   "execution_count": 188,
   "id": "428b7b02",
   "metadata": {},
   "outputs": [
    {
     "data": {
      "text/plain": [
       "43.0"
      ]
     },
     "execution_count": 188,
     "metadata": {},
     "output_type": "execute_result"
    }
   ],
   "source": [
    "df[df['Outcome'] == 'Repay']['Age'].mean()"
   ]
  },
  {
   "cell_type": "code",
   "execution_count": 189,
   "id": "df949da8",
   "metadata": {},
   "outputs": [
    {
     "data": {
      "text/plain": [
       "38.5"
      ]
     },
     "execution_count": 189,
     "metadata": {},
     "output_type": "execute_result"
    }
   ],
   "source": [
    "df[df['Outcome'] == 'Default']['Age'].mean()"
   ]
  },
  {
   "cell_type": "markdown",
   "id": "ef373688",
   "metadata": {},
   "source": [
    "The \"group by\" concept: we want to **apply the same function on subsets of your dataframe, based on some key to split the dataframe in subsets**\n",
    "\n",
    "This operation is also referred to as the \"split-apply-combine\" operation, involving the following steps:\n",
    "\n",
    "* **Splitting** the data into groups based on some criteria\n",
    "* **Applying** a function to each group independently\n",
    "* **Combining** the results into a data structure\n",
    "\n",
    "\n",
    "Instead of doing the manual filtering as above\n",
    "\n",
    "\n",
    "    df[df['Outcome'] == 'Repay']['Age'].mean()\n",
    "    df[df['Outcome'] == 'Default']['Age'].mean()\n",
    "    ...\n",
    "\n",
    "pandas provides the `groupby` method to do exactly this:\n"
   ]
  },
  {
   "cell_type": "code",
   "execution_count": 194,
   "id": "eb7f5a16",
   "metadata": {},
   "outputs": [
    {
     "data": {
      "text/plain": [
       "Outcome\n",
       "Default    38.5\n",
       "Repay      43.0\n",
       "Name: Age, dtype: float64"
      ]
     },
     "execution_count": 194,
     "metadata": {},
     "output_type": "execute_result"
    }
   ],
   "source": [
    "df.groupby('Outcome')['Age'].mean()"
   ]
  },
  {
   "cell_type": "code",
   "execution_count": 193,
   "id": "3a9bf8e7",
   "metadata": {},
   "outputs": [
    {
     "data": {
      "text/plain": [
       "Outcome\n",
       "Default    38.5\n",
       "Repay      43.0\n",
       "Name: Age, dtype: float64"
      ]
     },
     "execution_count": 193,
     "metadata": {},
     "output_type": "execute_result"
    }
   ],
   "source": [
    "df.groupby('Outcome')['Age'].apply(lambda x: x.sum()/x.count())"
   ]
  }
 ],
 "metadata": {
  "kernelspec": {
   "display_name": "hynts",
   "language": "python",
   "name": "hynts"
  },
  "language_info": {
   "codemirror_mode": {
    "name": "ipython",
    "version": 3
   },
   "file_extension": ".py",
   "mimetype": "text/x-python",
   "name": "python",
   "nbconvert_exporter": "python",
   "pygments_lexer": "ipython3",
   "version": "3.8.13"
  }
 },
 "nbformat": 4,
 "nbformat_minor": 5
}
