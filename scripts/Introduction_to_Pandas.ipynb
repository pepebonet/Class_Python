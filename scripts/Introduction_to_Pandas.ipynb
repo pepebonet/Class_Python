{
 "cells": [
  {
   "cell_type": "markdown",
   "id": "7cb914b1",
   "metadata": {},
   "source": [
    "# Introduction to Pandas"
   ]
  },
  {
   "cell_type": "markdown",
   "id": "671b93de",
   "metadata": {},
   "source": [
    "Pandas is a Python package that provides fast, flexible, and expressive data structures designed to make working with \"relational\" or \"labeled\" data both easy and intuitive"
   ]
  },
  {
   "cell_type": "markdown",
   "id": "1c861479",
   "metadata": {},
   "source": [
    "### Notebook lessons \n",
    "\n",
    "**1.- Load a csv/tsv/excel file and explore it**\n",
    "\n",
    "**2.- Basic Data Exploration**\n",
    "\n",
    "**3.- Column operations**\n",
    "\n",
    "**4.- Row operations**\n",
    "\n",
    "**5.- Groupby**\n",
    "\n",
    "**6.- Apply and Lambda**\n",
    "\n"
   ]
  },
  {
   "cell_type": "markdown",
   "id": "b384a619",
   "metadata": {},
   "source": [
    "## 1.- Load a csv/tsv/excel file and explore it"
   ]
  },
  {
   "cell_type": "markdown",
   "id": "be2c1d51",
   "metadata": {},
   "source": [
    "The first thing that needs to be done is to load the package so that it can be used. As a convention the **pandas library is always imported as pd**"
   ]
  },
  {
   "cell_type": "code",
   "execution_count": 51,
   "id": "ebe45645",
   "metadata": {},
   "outputs": [],
   "source": [
    "import pandas as pd\n",
    "import matplotlib.pyplot as plt"
   ]
  },
  {
   "cell_type": "markdown",
   "id": "beadb2eb",
   "metadata": {},
   "source": [
    "After we can use the package the initial step is to load the dataset that we will use. To do so we use the function **read_csv** from pandas. "
   ]
  },
  {
   "cell_type": "code",
   "execution_count": 52,
   "id": "545d4f98",
   "metadata": {},
   "outputs": [],
   "source": [
    "df = pd.read_csv('../datasets/Dataset_credit_scoring.tsv', sep='\\t')"
   ]
  },
  {
   "cell_type": "code",
   "execution_count": 53,
   "id": "76faaa3c",
   "metadata": {},
   "outputs": [],
   "source": [
    "df_excel = pd.read_excel('../datasets/Dataset_credit_scoring.xlsx')"
   ]
  },
  {
   "cell_type": "code",
   "execution_count": 54,
   "id": "e21545a7",
   "metadata": {},
   "outputs": [
    {
     "data": {
      "text/html": [
       "<div>\n",
       "<style scoped>\n",
       "    .dataframe tbody tr th:only-of-type {\n",
       "        vertical-align: middle;\n",
       "    }\n",
       "\n",
       "    .dataframe tbody tr th {\n",
       "        vertical-align: top;\n",
       "    }\n",
       "\n",
       "    .dataframe thead th {\n",
       "        text-align: right;\n",
       "    }\n",
       "</style>\n",
       "<table border=\"1\" class=\"dataframe\">\n",
       "  <thead>\n",
       "    <tr style=\"text-align: right;\">\n",
       "      <th></th>\n",
       "      <th>Occupation</th>\n",
       "      <th>Age</th>\n",
       "      <th>Loan_Salary_ratio</th>\n",
       "      <th>Outcome</th>\n",
       "    </tr>\n",
       "  </thead>\n",
       "  <tbody>\n",
       "    <tr>\n",
       "      <th>0</th>\n",
       "      <td>Industrial</td>\n",
       "      <td>34</td>\n",
       "      <td>2.96</td>\n",
       "      <td>Repay</td>\n",
       "    </tr>\n",
       "    <tr>\n",
       "      <th>1</th>\n",
       "      <td>Professional</td>\n",
       "      <td>41</td>\n",
       "      <td>4.64</td>\n",
       "      <td>Default</td>\n",
       "    </tr>\n",
       "    <tr>\n",
       "      <th>2</th>\n",
       "      <td>Professional</td>\n",
       "      <td>36</td>\n",
       "      <td>3.22</td>\n",
       "      <td>Default</td>\n",
       "    </tr>\n",
       "    <tr>\n",
       "      <th>3</th>\n",
       "      <td>Professional</td>\n",
       "      <td>41</td>\n",
       "      <td>3.11</td>\n",
       "      <td>Default</td>\n",
       "    </tr>\n",
       "    <tr>\n",
       "      <th>4</th>\n",
       "      <td>Industrial</td>\n",
       "      <td>48</td>\n",
       "      <td>3.80</td>\n",
       "      <td>Default</td>\n",
       "    </tr>\n",
       "  </tbody>\n",
       "</table>\n",
       "</div>"
      ],
      "text/plain": [
       "     Occupation  Age  Loan_Salary_ratio  Outcome\n",
       "0    Industrial   34               2.96    Repay\n",
       "1  Professional   41               4.64  Default\n",
       "2  Professional   36               3.22  Default\n",
       "3  Professional   41               3.11  Default\n",
       "4    Industrial   48               3.80  Default"
      ]
     },
     "execution_count": 54,
     "metadata": {},
     "output_type": "execute_result"
    }
   ],
   "source": [
    "df_excel.head()"
   ]
  },
  {
   "cell_type": "markdown",
   "id": "9e779a09",
   "metadata": {},
   "source": [
    "## 2.- Basic Data Exploration"
   ]
  },
  {
   "cell_type": "markdown",
   "id": "656efb17",
   "metadata": {},
   "source": [
    "The next step is to explore the data. To do so we normally employ some simple functions such as head(), info(), describe(), dtypes, columns, index, "
   ]
  },
  {
   "cell_type": "code",
   "execution_count": 55,
   "id": "0d656146",
   "metadata": {},
   "outputs": [
    {
     "data": {
      "text/html": [
       "<div>\n",
       "<style scoped>\n",
       "    .dataframe tbody tr th:only-of-type {\n",
       "        vertical-align: middle;\n",
       "    }\n",
       "\n",
       "    .dataframe tbody tr th {\n",
       "        vertical-align: top;\n",
       "    }\n",
       "\n",
       "    .dataframe thead th {\n",
       "        text-align: right;\n",
       "    }\n",
       "</style>\n",
       "<table border=\"1\" class=\"dataframe\">\n",
       "  <thead>\n",
       "    <tr style=\"text-align: right;\">\n",
       "      <th></th>\n",
       "      <th>Occupation</th>\n",
       "      <th>Age</th>\n",
       "      <th>Loan_Salary_ratio</th>\n",
       "      <th>Outcome</th>\n",
       "    </tr>\n",
       "  </thead>\n",
       "  <tbody>\n",
       "    <tr>\n",
       "      <th>0</th>\n",
       "      <td>Industrial</td>\n",
       "      <td>34</td>\n",
       "      <td>2.96</td>\n",
       "      <td>Repay</td>\n",
       "    </tr>\n",
       "    <tr>\n",
       "      <th>1</th>\n",
       "      <td>Professional</td>\n",
       "      <td>41</td>\n",
       "      <td>4.64</td>\n",
       "      <td>Default</td>\n",
       "    </tr>\n",
       "    <tr>\n",
       "      <th>2</th>\n",
       "      <td>Professional</td>\n",
       "      <td>36</td>\n",
       "      <td>3.22</td>\n",
       "      <td>Default</td>\n",
       "    </tr>\n",
       "    <tr>\n",
       "      <th>3</th>\n",
       "      <td>Professional</td>\n",
       "      <td>41</td>\n",
       "      <td>3.11</td>\n",
       "      <td>Default</td>\n",
       "    </tr>\n",
       "    <tr>\n",
       "      <th>4</th>\n",
       "      <td>Industrial</td>\n",
       "      <td>48</td>\n",
       "      <td>3.80</td>\n",
       "      <td>Default</td>\n",
       "    </tr>\n",
       "  </tbody>\n",
       "</table>\n",
       "</div>"
      ],
      "text/plain": [
       "     Occupation  Age  Loan_Salary_ratio  Outcome\n",
       "0    Industrial   34               2.96    Repay\n",
       "1  Professional   41               4.64  Default\n",
       "2  Professional   36               3.22  Default\n",
       "3  Professional   41               3.11  Default\n",
       "4    Industrial   48               3.80  Default"
      ]
     },
     "execution_count": 55,
     "metadata": {},
     "output_type": "execute_result"
    }
   ],
   "source": [
    "df.head()"
   ]
  },
  {
   "cell_type": "code",
   "execution_count": 56,
   "id": "3793d22e",
   "metadata": {},
   "outputs": [
    {
     "data": {
      "text/html": [
       "<div>\n",
       "<style scoped>\n",
       "    .dataframe tbody tr th:only-of-type {\n",
       "        vertical-align: middle;\n",
       "    }\n",
       "\n",
       "    .dataframe tbody tr th {\n",
       "        vertical-align: top;\n",
       "    }\n",
       "\n",
       "    .dataframe thead th {\n",
       "        text-align: right;\n",
       "    }\n",
       "</style>\n",
       "<table border=\"1\" class=\"dataframe\">\n",
       "  <thead>\n",
       "    <tr style=\"text-align: right;\">\n",
       "      <th></th>\n",
       "      <th>Occupation</th>\n",
       "      <th>Age</th>\n",
       "      <th>Loan_Salary_ratio</th>\n",
       "      <th>Outcome</th>\n",
       "    </tr>\n",
       "  </thead>\n",
       "  <tbody>\n",
       "    <tr>\n",
       "      <th>5</th>\n",
       "      <td>Industrial</td>\n",
       "      <td>61</td>\n",
       "      <td>2.53</td>\n",
       "      <td>Repay</td>\n",
       "    </tr>\n",
       "    <tr>\n",
       "      <th>6</th>\n",
       "      <td>Professional</td>\n",
       "      <td>37</td>\n",
       "      <td>1.50</td>\n",
       "      <td>Repay</td>\n",
       "    </tr>\n",
       "    <tr>\n",
       "      <th>7</th>\n",
       "      <td>Professional</td>\n",
       "      <td>40</td>\n",
       "      <td>1.93</td>\n",
       "      <td>Repay</td>\n",
       "    </tr>\n",
       "    <tr>\n",
       "      <th>8</th>\n",
       "      <td>Industrial</td>\n",
       "      <td>33</td>\n",
       "      <td>5.25</td>\n",
       "      <td>Default</td>\n",
       "    </tr>\n",
       "    <tr>\n",
       "      <th>9</th>\n",
       "      <td>Industrial</td>\n",
       "      <td>32</td>\n",
       "      <td>4.15</td>\n",
       "      <td>Default</td>\n",
       "    </tr>\n",
       "  </tbody>\n",
       "</table>\n",
       "</div>"
      ],
      "text/plain": [
       "     Occupation  Age  Loan_Salary_ratio  Outcome\n",
       "5    Industrial   61               2.53    Repay\n",
       "6  Professional   37               1.50    Repay\n",
       "7  Professional   40               1.93    Repay\n",
       "8    Industrial   33               5.25  Default\n",
       "9    Industrial   32               4.15  Default"
      ]
     },
     "execution_count": 56,
     "metadata": {},
     "output_type": "execute_result"
    }
   ],
   "source": [
    "df.tail()"
   ]
  },
  {
   "cell_type": "code",
   "execution_count": 57,
   "id": "11ce3f8c",
   "metadata": {},
   "outputs": [
    {
     "data": {
      "text/html": [
       "<div>\n",
       "<style scoped>\n",
       "    .dataframe tbody tr th:only-of-type {\n",
       "        vertical-align: middle;\n",
       "    }\n",
       "\n",
       "    .dataframe tbody tr th {\n",
       "        vertical-align: top;\n",
       "    }\n",
       "\n",
       "    .dataframe thead th {\n",
       "        text-align: right;\n",
       "    }\n",
       "</style>\n",
       "<table border=\"1\" class=\"dataframe\">\n",
       "  <thead>\n",
       "    <tr style=\"text-align: right;\">\n",
       "      <th></th>\n",
       "      <th>Occupation</th>\n",
       "      <th>Age</th>\n",
       "      <th>Loan_Salary_ratio</th>\n",
       "      <th>Outcome</th>\n",
       "    </tr>\n",
       "  </thead>\n",
       "  <tbody>\n",
       "    <tr>\n",
       "      <th>0</th>\n",
       "      <td>Industrial</td>\n",
       "      <td>34</td>\n",
       "      <td>2.96</td>\n",
       "      <td>Repay</td>\n",
       "    </tr>\n",
       "    <tr>\n",
       "      <th>1</th>\n",
       "      <td>Professional</td>\n",
       "      <td>41</td>\n",
       "      <td>4.64</td>\n",
       "      <td>Default</td>\n",
       "    </tr>\n",
       "    <tr>\n",
       "      <th>2</th>\n",
       "      <td>Professional</td>\n",
       "      <td>36</td>\n",
       "      <td>3.22</td>\n",
       "      <td>Default</td>\n",
       "    </tr>\n",
       "    <tr>\n",
       "      <th>3</th>\n",
       "      <td>Professional</td>\n",
       "      <td>41</td>\n",
       "      <td>3.11</td>\n",
       "      <td>Default</td>\n",
       "    </tr>\n",
       "    <tr>\n",
       "      <th>4</th>\n",
       "      <td>Industrial</td>\n",
       "      <td>48</td>\n",
       "      <td>3.80</td>\n",
       "      <td>Default</td>\n",
       "    </tr>\n",
       "    <tr>\n",
       "      <th>5</th>\n",
       "      <td>Industrial</td>\n",
       "      <td>61</td>\n",
       "      <td>2.53</td>\n",
       "      <td>Repay</td>\n",
       "    </tr>\n",
       "    <tr>\n",
       "      <th>6</th>\n",
       "      <td>Professional</td>\n",
       "      <td>37</td>\n",
       "      <td>1.50</td>\n",
       "      <td>Repay</td>\n",
       "    </tr>\n",
       "    <tr>\n",
       "      <th>7</th>\n",
       "      <td>Professional</td>\n",
       "      <td>40</td>\n",
       "      <td>1.93</td>\n",
       "      <td>Repay</td>\n",
       "    </tr>\n",
       "  </tbody>\n",
       "</table>\n",
       "</div>"
      ],
      "text/plain": [
       "     Occupation  Age  Loan_Salary_ratio  Outcome\n",
       "0    Industrial   34               2.96    Repay\n",
       "1  Professional   41               4.64  Default\n",
       "2  Professional   36               3.22  Default\n",
       "3  Professional   41               3.11  Default\n",
       "4    Industrial   48               3.80  Default\n",
       "5    Industrial   61               2.53    Repay\n",
       "6  Professional   37               1.50    Repay\n",
       "7  Professional   40               1.93    Repay"
      ]
     },
     "execution_count": 57,
     "metadata": {},
     "output_type": "execute_result"
    }
   ],
   "source": [
    "df.head(8)"
   ]
  },
  {
   "cell_type": "code",
   "execution_count": 58,
   "id": "9523fcbb",
   "metadata": {},
   "outputs": [
    {
     "name": "stdout",
     "output_type": "stream",
     "text": [
      "<class 'pandas.core.frame.DataFrame'>\n",
      "RangeIndex: 10 entries, 0 to 9\n",
      "Data columns (total 4 columns):\n",
      " #   Column             Non-Null Count  Dtype  \n",
      "---  ------             --------------  -----  \n",
      " 0   Occupation         10 non-null     object \n",
      " 1   Age                10 non-null     int64  \n",
      " 2   Loan_Salary_ratio  10 non-null     float64\n",
      " 3   Outcome            10 non-null     object \n",
      "dtypes: float64(1), int64(1), object(2)\n",
      "memory usage: 448.0+ bytes\n"
     ]
    }
   ],
   "source": [
    "df.info()"
   ]
  },
  {
   "cell_type": "code",
   "execution_count": 59,
   "id": "392ba2e4",
   "metadata": {},
   "outputs": [
    {
     "data": {
      "text/plain": [
       "Index(['Occupation', 'Age', 'Loan_Salary_ratio', 'Outcome'], dtype='object')"
      ]
     },
     "execution_count": 59,
     "metadata": {},
     "output_type": "execute_result"
    }
   ],
   "source": [
    "df.columns"
   ]
  },
  {
   "cell_type": "code",
   "execution_count": 60,
   "id": "278f27fc",
   "metadata": {},
   "outputs": [
    {
     "data": {
      "text/plain": [
       "RangeIndex(start=0, stop=10, step=1)"
      ]
     },
     "execution_count": 60,
     "metadata": {},
     "output_type": "execute_result"
    }
   ],
   "source": [
    "df.index"
   ]
  },
  {
   "cell_type": "code",
   "execution_count": 61,
   "id": "ad50d76c",
   "metadata": {},
   "outputs": [
    {
     "data": {
      "text/html": [
       "<div>\n",
       "<style scoped>\n",
       "    .dataframe tbody tr th:only-of-type {\n",
       "        vertical-align: middle;\n",
       "    }\n",
       "\n",
       "    .dataframe tbody tr th {\n",
       "        vertical-align: top;\n",
       "    }\n",
       "\n",
       "    .dataframe thead th {\n",
       "        text-align: right;\n",
       "    }\n",
       "</style>\n",
       "<table border=\"1\" class=\"dataframe\">\n",
       "  <thead>\n",
       "    <tr style=\"text-align: right;\">\n",
       "      <th></th>\n",
       "      <th>Age</th>\n",
       "      <th>Loan_Salary_ratio</th>\n",
       "    </tr>\n",
       "  </thead>\n",
       "  <tbody>\n",
       "    <tr>\n",
       "      <th>count</th>\n",
       "      <td>10.000000</td>\n",
       "      <td>10.00000</td>\n",
       "    </tr>\n",
       "    <tr>\n",
       "      <th>mean</th>\n",
       "      <td>40.300000</td>\n",
       "      <td>3.30900</td>\n",
       "    </tr>\n",
       "    <tr>\n",
       "      <th>std</th>\n",
       "      <td>8.692909</td>\n",
       "      <td>1.17557</td>\n",
       "    </tr>\n",
       "    <tr>\n",
       "      <th>min</th>\n",
       "      <td>32.000000</td>\n",
       "      <td>1.50000</td>\n",
       "    </tr>\n",
       "    <tr>\n",
       "      <th>25%</th>\n",
       "      <td>34.500000</td>\n",
       "      <td>2.63750</td>\n",
       "    </tr>\n",
       "    <tr>\n",
       "      <th>50%</th>\n",
       "      <td>38.500000</td>\n",
       "      <td>3.16500</td>\n",
       "    </tr>\n",
       "    <tr>\n",
       "      <th>75%</th>\n",
       "      <td>41.000000</td>\n",
       "      <td>4.06250</td>\n",
       "    </tr>\n",
       "    <tr>\n",
       "      <th>max</th>\n",
       "      <td>61.000000</td>\n",
       "      <td>5.25000</td>\n",
       "    </tr>\n",
       "  </tbody>\n",
       "</table>\n",
       "</div>"
      ],
      "text/plain": [
       "             Age  Loan_Salary_ratio\n",
       "count  10.000000           10.00000\n",
       "mean   40.300000            3.30900\n",
       "std     8.692909            1.17557\n",
       "min    32.000000            1.50000\n",
       "25%    34.500000            2.63750\n",
       "50%    38.500000            3.16500\n",
       "75%    41.000000            4.06250\n",
       "max    61.000000            5.25000"
      ]
     },
     "execution_count": 61,
     "metadata": {},
     "output_type": "execute_result"
    }
   ],
   "source": [
    "df.describe()"
   ]
  },
  {
   "cell_type": "markdown",
   "id": "4b2e06c8",
   "metadata": {},
   "source": [
    "## 3.- Column Operations"
   ]
  },
  {
   "cell_type": "code",
   "execution_count": 62,
   "id": "45c5303b",
   "metadata": {},
   "outputs": [
    {
     "data": {
      "text/plain": [
       "Index(['Occupation', 'Age', 'Loan_Salary_ratio', 'Outcome'], dtype='object')"
      ]
     },
     "execution_count": 62,
     "metadata": {},
     "output_type": "execute_result"
    }
   ],
   "source": [
    "df.columns"
   ]
  },
  {
   "cell_type": "code",
   "execution_count": 63,
   "id": "e561424e",
   "metadata": {},
   "outputs": [
    {
     "data": {
      "text/plain": [
       "0      Repay\n",
       "1    Default\n",
       "2    Default\n",
       "3    Default\n",
       "4    Default\n",
       "5      Repay\n",
       "6      Repay\n",
       "7      Repay\n",
       "8    Default\n",
       "9    Default\n",
       "Name: Outcome, dtype: object"
      ]
     },
     "execution_count": 63,
     "metadata": {},
     "output_type": "execute_result"
    }
   ],
   "source": [
    "df['Outcome']"
   ]
  },
  {
   "cell_type": "code",
   "execution_count": 64,
   "id": "0e9be423",
   "metadata": {},
   "outputs": [
    {
     "data": {
      "text/plain": [
       "Default    6\n",
       "Repay      4\n",
       "Name: Outcome, dtype: int64"
      ]
     },
     "execution_count": 64,
     "metadata": {},
     "output_type": "execute_result"
    }
   ],
   "source": [
    "df['Outcome'].value_counts()"
   ]
  },
  {
   "cell_type": "code",
   "execution_count": 65,
   "id": "36101a52",
   "metadata": {},
   "outputs": [
    {
     "data": {
      "text/plain": [
       "array(['Repay', 'Default'], dtype=object)"
      ]
     },
     "execution_count": 65,
     "metadata": {},
     "output_type": "execute_result"
    }
   ],
   "source": [
    "df['Outcome'].unique()"
   ]
  },
  {
   "cell_type": "code",
   "execution_count": 66,
   "id": "51a1746b",
   "metadata": {},
   "outputs": [
    {
     "data": {
      "text/plain": [
       "2"
      ]
     },
     "execution_count": 66,
     "metadata": {},
     "output_type": "execute_result"
    }
   ],
   "source": [
    "df['Outcome'].nunique()"
   ]
  },
  {
   "cell_type": "code",
   "execution_count": 67,
   "id": "629f5b9d",
   "metadata": {},
   "outputs": [
    {
     "name": "stdout",
     "output_type": "stream",
     "text": [
      "32 61\n"
     ]
    }
   ],
   "source": [
    "print(df['Age'].min(), df['Age'].max())"
   ]
  },
  {
   "cell_type": "code",
   "execution_count": 68,
   "id": "0d3c5925",
   "metadata": {},
   "outputs": [],
   "source": [
    "import matplotlib.pyplot as plt"
   ]
  },
  {
   "cell_type": "code",
   "execution_count": 69,
   "id": "d933e5f8",
   "metadata": {},
   "outputs": [
    {
     "data": {
      "text/plain": [
       "<AxesSubplot:ylabel='Frequency'>"
      ]
     },
     "execution_count": 69,
     "metadata": {},
     "output_type": "execute_result"
    },
    {
     "data": {
      "image/png": "[encoded data removed]",
      "text/plain": [
       "<Figure size 432x288 with 1 Axes>"
      ]
     },
     "metadata": {
      "needs_background": "light"
     },
     "output_type": "display_data"
    }
   ],
   "source": [
    "df['Age'].plot(kind='hist')"
   ]
  },
  {
   "cell_type": "code",
   "execution_count": 70,
   "id": "2a4f4e5c",
   "metadata": {},
   "outputs": [
    {
     "data": {
      "text/plain": [
       "<AxesSubplot:>"
      ]
     },
     "execution_count": 70,
     "metadata": {},
     "output_type": "execute_result"
    },
    {
     "data": {
      "image/png": "[encoded data removed]",
      "text/plain": [
       "<Figure size 432x288 with 1 Axes>"
      ]
     },
     "metadata": {
      "needs_background": "light"
     },
     "output_type": "display_data"
    }
   ],
   "source": [
    "df['Loan_Salary_ratio'].plot(kind = 'box')"
   ]
  },
  {
   "cell_type": "markdown",
   "id": "765469e9",
   "metadata": {},
   "source": [
    "Columns are the backbone for any AI or ML model. They represent the features of any possible the model. Therefore, it is important to work with them in pandas. In addition to the simple operations above, some more things can be done:\n",
    "\n",
    "- Separate dataframes\n",
    "- Filter data by selecting a certain number of columns\n",
    "- Create new columns through an operation "
   ]
  },
  {
   "cell_type": "markdown",
   "id": "950eff4a",
   "metadata": {},
   "source": [
    "### Separate dataframes"
   ]
  },
  {
   "cell_type": "code",
   "execution_count": 71,
   "id": "78278466",
   "metadata": {},
   "outputs": [
    {
     "data": {
      "text/plain": [
       "0    False\n",
       "1     True\n",
       "2    False\n",
       "3     True\n",
       "4     True\n",
       "5     True\n",
       "6    False\n",
       "7    False\n",
       "8    False\n",
       "9    False\n",
       "Name: Age, dtype: bool"
      ]
     },
     "execution_count": 71,
     "metadata": {},
     "output_type": "execute_result"
    }
   ],
   "source": [
    "df['Age'] > 40"
   ]
  },
  {
   "cell_type": "code",
   "execution_count": 81,
   "id": "befab89a",
   "metadata": {},
   "outputs": [
    {
     "data": {
      "text/html": [
       "<div>\n",
       "<style scoped>\n",
       "    .dataframe tbody tr th:only-of-type {\n",
       "        vertical-align: middle;\n",
       "    }\n",
       "\n",
       "    .dataframe tbody tr th {\n",
       "        vertical-align: top;\n",
       "    }\n",
       "\n",
       "    .dataframe thead th {\n",
       "        text-align: right;\n",
       "    }\n",
       "</style>\n",
       "<table border=\"1\" class=\"dataframe\">\n",
       "  <thead>\n",
       "    <tr style=\"text-align: right;\">\n",
       "      <th></th>\n",
       "      <th>Occupation</th>\n",
       "      <th>Age</th>\n",
       "      <th>Loan_Salary_ratio</th>\n",
       "      <th>Outcome</th>\n",
       "      <th>Age_Loan_Salary_ratio</th>\n",
       "    </tr>\n",
       "  </thead>\n",
       "  <tbody>\n",
       "    <tr>\n",
       "      <th>1</th>\n",
       "      <td>Professional</td>\n",
       "      <td>41</td>\n",
       "      <td>4.64</td>\n",
       "      <td>Default</td>\n",
       "      <td>8.836207</td>\n",
       "    </tr>\n",
       "    <tr>\n",
       "      <th>3</th>\n",
       "      <td>Professional</td>\n",
       "      <td>41</td>\n",
       "      <td>3.11</td>\n",
       "      <td>Default</td>\n",
       "      <td>13.183280</td>\n",
       "    </tr>\n",
       "    <tr>\n",
       "      <th>4</th>\n",
       "      <td>Industrial</td>\n",
       "      <td>48</td>\n",
       "      <td>3.80</td>\n",
       "      <td>Default</td>\n",
       "      <td>12.631579</td>\n",
       "    </tr>\n",
       "    <tr>\n",
       "      <th>5</th>\n",
       "      <td>Industrial</td>\n",
       "      <td>61</td>\n",
       "      <td>2.53</td>\n",
       "      <td>Repay</td>\n",
       "      <td>24.110672</td>\n",
       "    </tr>\n",
       "  </tbody>\n",
       "</table>\n",
       "</div>"
      ],
      "text/plain": [
       "     Occupation  Age  Loan_Salary_ratio  Outcome  Age_Loan_Salary_ratio\n",
       "1  Professional   41               4.64  Default               8.836207\n",
       "3  Professional   41               3.11  Default              13.183280\n",
       "4    Industrial   48               3.80  Default              12.631579\n",
       "5    Industrial   61               2.53    Repay              24.110672"
      ]
     },
     "execution_count": 81,
     "metadata": {},
     "output_type": "execute_result"
    }
   ],
   "source": [
    "df_age_40 = df[df['Age'] > 40]\n",
    "df_age_40.head()"
   ]
  },
  {
   "cell_type": "markdown",
   "id": "c13c3c8e",
   "metadata": {},
   "source": [
    "### Filter data by selecting a certain number of columns"
   ]
  },
  {
   "cell_type": "code",
   "execution_count": null,
   "id": "1c6888d5",
   "metadata": {},
   "outputs": [],
   "source": []
  },
  {
   "cell_type": "markdown",
   "id": "bc16f0a1",
   "metadata": {},
   "source": [
    "### Create new columns through an operation"
   ]
  },
  {
   "cell_type": "code",
   "execution_count": 76,
   "id": "e810c320",
   "metadata": {},
   "outputs": [
    {
     "data": {
      "text/plain": [
       "0    11.486486\n",
       "1     8.836207\n",
       "2    11.180124\n",
       "3    13.183280\n",
       "4    12.631579\n",
       "5    24.110672\n",
       "6    24.666667\n",
       "7    20.725389\n",
       "8     6.285714\n",
       "9     7.710843\n",
       "dtype: float64"
      ]
     },
     "execution_count": 76,
     "metadata": {},
     "output_type": "execute_result"
    }
   ],
   "source": [
    "df['Age'] / df['Loan_Salary_ratio']"
   ]
  },
  {
   "cell_type": "code",
   "execution_count": 77,
   "id": "e2a88c99",
   "metadata": {},
   "outputs": [],
   "source": [
    "df['Age_Loan_Salary_ratio'] = df['Age'] / df['Loan_Salary_ratio']"
   ]
  },
  {
   "cell_type": "code",
   "execution_count": 78,
   "id": "aa010cba",
   "metadata": {},
   "outputs": [
    {
     "data": {
      "text/html": [
       "<div>\n",
       "<style scoped>\n",
       "    .dataframe tbody tr th:only-of-type {\n",
       "        vertical-align: middle;\n",
       "    }\n",
       "\n",
       "    .dataframe tbody tr th {\n",
       "        vertical-align: top;\n",
       "    }\n",
       "\n",
       "    .dataframe thead th {\n",
       "        text-align: right;\n",
       "    }\n",
       "</style>\n",
       "<table border=\"1\" class=\"dataframe\">\n",
       "  <thead>\n",
       "    <tr style=\"text-align: right;\">\n",
       "      <th></th>\n",
       "      <th>Occupation</th>\n",
       "      <th>Age</th>\n",
       "      <th>Loan_Salary_ratio</th>\n",
       "      <th>Outcome</th>\n",
       "      <th>Age_Loan_Salary_ratio</th>\n",
       "    </tr>\n",
       "  </thead>\n",
       "  <tbody>\n",
       "    <tr>\n",
       "      <th>0</th>\n",
       "      <td>Industrial</td>\n",
       "      <td>34</td>\n",
       "      <td>2.96</td>\n",
       "      <td>Repay</td>\n",
       "      <td>11.486486</td>\n",
       "    </tr>\n",
       "    <tr>\n",
       "      <th>1</th>\n",
       "      <td>Professional</td>\n",
       "      <td>41</td>\n",
       "      <td>4.64</td>\n",
       "      <td>Default</td>\n",
       "      <td>8.836207</td>\n",
       "    </tr>\n",
       "    <tr>\n",
       "      <th>2</th>\n",
       "      <td>Professional</td>\n",
       "      <td>36</td>\n",
       "      <td>3.22</td>\n",
       "      <td>Default</td>\n",
       "      <td>11.180124</td>\n",
       "    </tr>\n",
       "    <tr>\n",
       "      <th>3</th>\n",
       "      <td>Professional</td>\n",
       "      <td>41</td>\n",
       "      <td>3.11</td>\n",
       "      <td>Default</td>\n",
       "      <td>13.183280</td>\n",
       "    </tr>\n",
       "    <tr>\n",
       "      <th>4</th>\n",
       "      <td>Industrial</td>\n",
       "      <td>48</td>\n",
       "      <td>3.80</td>\n",
       "      <td>Default</td>\n",
       "      <td>12.631579</td>\n",
       "    </tr>\n",
       "  </tbody>\n",
       "</table>\n",
       "</div>"
      ],
      "text/plain": [
       "     Occupation  Age  Loan_Salary_ratio  Outcome  Age_Loan_Salary_ratio\n",
       "0    Industrial   34               2.96    Repay              11.486486\n",
       "1  Professional   41               4.64  Default               8.836207\n",
       "2  Professional   36               3.22  Default              11.180124\n",
       "3  Professional   41               3.11  Default              13.183280\n",
       "4    Industrial   48               3.80  Default              12.631579"
      ]
     },
     "execution_count": 78,
     "metadata": {},
     "output_type": "execute_result"
    }
   ],
   "source": [
    "df.head()"
   ]
  },
  {
   "cell_type": "code",
   "execution_count": 26,
   "id": "dfd3aa79",
   "metadata": {},
   "outputs": [
    {
     "data": {
      "text/plain": [
       "Occupation           Industrial\n",
       "Age                          34\n",
       "Loan_Salary_ratio          2.96\n",
       "Outcome                   Repay\n",
       "Name: 0, dtype: object"
      ]
     },
     "execution_count": 26,
     "metadata": {},
     "output_type": "execute_result"
    }
   ],
   "source": [
    "df.loc[0]"
   ]
  },
  {
   "cell_type": "code",
   "execution_count": 8,
   "id": "8ca7604a",
   "metadata": {},
   "outputs": [
    {
     "data": {
      "text/plain": [
       "Occupation           Professional\n",
       "Age                            41\n",
       "Loan_Salary_ratio            4.64\n",
       "Outcome                   Default\n",
       "Name: 1, dtype: object"
      ]
     },
     "execution_count": 8,
     "metadata": {},
     "output_type": "execute_result"
    }
   ],
   "source": [
    "df.iloc[1]"
   ]
  },
  {
   "cell_type": "code",
   "execution_count": 9,
   "id": "dcc049cc",
   "metadata": {},
   "outputs": [],
   "source": [
    "df.index = df.Age"
   ]
  },
  {
   "cell_type": "code",
   "execution_count": 10,
   "id": "9e67c6b5",
   "metadata": {},
   "outputs": [
    {
     "data": {
      "text/html": [
       "<div>\n",
       "<style scoped>\n",
       "    .dataframe tbody tr th:only-of-type {\n",
       "        vertical-align: middle;\n",
       "    }\n",
       "\n",
       "    .dataframe tbody tr th {\n",
       "        vertical-align: top;\n",
       "    }\n",
       "\n",
       "    .dataframe thead th {\n",
       "        text-align: right;\n",
       "    }\n",
       "</style>\n",
       "<table border=\"1\" class=\"dataframe\">\n",
       "  <thead>\n",
       "    <tr style=\"text-align: right;\">\n",
       "      <th></th>\n",
       "      <th>Occupation</th>\n",
       "      <th>Age</th>\n",
       "      <th>Loan_Salary_ratio</th>\n",
       "      <th>Outcome</th>\n",
       "    </tr>\n",
       "    <tr>\n",
       "      <th>Age</th>\n",
       "      <th></th>\n",
       "      <th></th>\n",
       "      <th></th>\n",
       "      <th></th>\n",
       "    </tr>\n",
       "  </thead>\n",
       "  <tbody>\n",
       "    <tr>\n",
       "      <th>34</th>\n",
       "      <td>Industrial</td>\n",
       "      <td>34</td>\n",
       "      <td>2.96</td>\n",
       "      <td>Repay</td>\n",
       "    </tr>\n",
       "    <tr>\n",
       "      <th>41</th>\n",
       "      <td>Professional</td>\n",
       "      <td>41</td>\n",
       "      <td>4.64</td>\n",
       "      <td>Default</td>\n",
       "    </tr>\n",
       "    <tr>\n",
       "      <th>36</th>\n",
       "      <td>Professional</td>\n",
       "      <td>36</td>\n",
       "      <td>3.22</td>\n",
       "      <td>Default</td>\n",
       "    </tr>\n",
       "    <tr>\n",
       "      <th>41</th>\n",
       "      <td>Professional</td>\n",
       "      <td>41</td>\n",
       "      <td>3.11</td>\n",
       "      <td>Default</td>\n",
       "    </tr>\n",
       "    <tr>\n",
       "      <th>48</th>\n",
       "      <td>Industrial</td>\n",
       "      <td>48</td>\n",
       "      <td>3.80</td>\n",
       "      <td>Default</td>\n",
       "    </tr>\n",
       "    <tr>\n",
       "      <th>61</th>\n",
       "      <td>Industrial</td>\n",
       "      <td>61</td>\n",
       "      <td>2.53</td>\n",
       "      <td>Repay</td>\n",
       "    </tr>\n",
       "    <tr>\n",
       "      <th>37</th>\n",
       "      <td>Professional</td>\n",
       "      <td>37</td>\n",
       "      <td>1.50</td>\n",
       "      <td>Repay</td>\n",
       "    </tr>\n",
       "    <tr>\n",
       "      <th>40</th>\n",
       "      <td>Professional</td>\n",
       "      <td>40</td>\n",
       "      <td>1.93</td>\n",
       "      <td>Repay</td>\n",
       "    </tr>\n",
       "    <tr>\n",
       "      <th>33</th>\n",
       "      <td>Industrial</td>\n",
       "      <td>33</td>\n",
       "      <td>5.25</td>\n",
       "      <td>Default</td>\n",
       "    </tr>\n",
       "    <tr>\n",
       "      <th>32</th>\n",
       "      <td>Industrial</td>\n",
       "      <td>32</td>\n",
       "      <td>4.15</td>\n",
       "      <td>Default</td>\n",
       "    </tr>\n",
       "  </tbody>\n",
       "</table>\n",
       "</div>"
      ],
      "text/plain": [
       "       Occupation  Age  Loan_Salary_ratio  Outcome\n",
       "Age                                               \n",
       "34     Industrial   34               2.96    Repay\n",
       "41   Professional   41               4.64  Default\n",
       "36   Professional   36               3.22  Default\n",
       "41   Professional   41               3.11  Default\n",
       "48     Industrial   48               3.80  Default\n",
       "61     Industrial   61               2.53    Repay\n",
       "37   Professional   37               1.50    Repay\n",
       "40   Professional   40               1.93    Repay\n",
       "33     Industrial   33               5.25  Default\n",
       "32     Industrial   32               4.15  Default"
      ]
     },
     "execution_count": 10,
     "metadata": {},
     "output_type": "execute_result"
    }
   ],
   "source": [
    "df"
   ]
  },
  {
   "cell_type": "code",
   "execution_count": 11,
   "id": "f943acd8",
   "metadata": {},
   "outputs": [
    {
     "data": {
      "text/plain": [
       "Occupation           Industrial\n",
       "Age                          32\n",
       "Loan_Salary_ratio          4.15\n",
       "Outcome                 Default\n",
       "Name: 32, dtype: object"
      ]
     },
     "execution_count": 11,
     "metadata": {},
     "output_type": "execute_result"
    }
   ],
   "source": [
    "df.loc[32]"
   ]
  },
  {
   "cell_type": "markdown",
   "id": "79960156",
   "metadata": {},
   "source": [
    "## 4.- Row Operations"
   ]
  },
  {
   "cell_type": "code",
   "execution_count": null,
   "id": "9396f63d",
   "metadata": {},
   "outputs": [],
   "source": []
  },
  {
   "cell_type": "code",
   "execution_count": null,
   "id": "502eb887",
   "metadata": {},
   "outputs": [],
   "source": []
  },
  {
   "cell_type": "code",
   "execution_count": null,
   "id": "acee5001",
   "metadata": {},
   "outputs": [],
   "source": []
  },
  {
   "cell_type": "code",
   "execution_count": null,
   "id": "4ac74ed3",
   "metadata": {},
   "outputs": [],
   "source": []
  },
  {
   "cell_type": "code",
   "execution_count": null,
   "id": "7a5fff44",
   "metadata": {},
   "outputs": [],
   "source": []
  },
  {
   "cell_type": "markdown",
   "id": "57fff183",
   "metadata": {},
   "source": [
    "## 5.- Groupby"
   ]
  },
  {
   "cell_type": "code",
   "execution_count": null,
   "id": "e9260f0e",
   "metadata": {},
   "outputs": [],
   "source": []
  },
  {
   "cell_type": "code",
   "execution_count": null,
   "id": "b450a754",
   "metadata": {},
   "outputs": [],
   "source": []
  },
  {
   "cell_type": "code",
   "execution_count": null,
   "id": "dbe1866a",
   "metadata": {},
   "outputs": [],
   "source": []
  },
  {
   "cell_type": "code",
   "execution_count": null,
   "id": "563562be",
   "metadata": {},
   "outputs": [],
   "source": []
  },
  {
   "cell_type": "code",
   "execution_count": null,
   "id": "2a3f903d",
   "metadata": {},
   "outputs": [],
   "source": []
  },
  {
   "cell_type": "markdown",
   "id": "f987af08",
   "metadata": {},
   "source": [
    "## 6.- Apply & Lambda"
   ]
  },
  {
   "cell_type": "code",
   "execution_count": null,
   "id": "10d5e0b6",
   "metadata": {},
   "outputs": [],
   "source": []
  }
 ],
 "metadata": {
  "kernelspec": {
   "display_name": "hynts",
   "language": "python",
   "name": "hynts"
  },
  "language_info": {
   "codemirror_mode": {
    "name": "ipython",
    "version": 3
   },
   "file_extension": ".py",
   "mimetype": "text/x-python",
   "name": "python",
   "nbconvert_exporter": "python",
   "pygments_lexer": "ipython3",
   "version": "3.8.13"
  }
 },
 "nbformat": 4,
 "nbformat_minor": 5
}
