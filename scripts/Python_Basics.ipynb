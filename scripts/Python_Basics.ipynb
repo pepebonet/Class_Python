{
 "cells": [
  {
   "cell_type": "markdown",
   "id": "e2ab655d",
   "metadata": {},
   "source": [
    "# Welcome to Introduction to Python!\n",
    "\n",
    "The objective of the course is to introduce python to our lives and start to understand how to use it. \n",
    "\n",
    "We will start with an overview of the basics: "
   ]
  },
  {
   "cell_type": "markdown",
   "id": "94a01bdb",
   "metadata": {},
   "source": [
    "## Python Basics\n",
    "\n",
    "**1.- Variables**\n",
    "\n",
    "**2.- Operations**\n",
    "\n",
    "**3.- Lists**\n",
    "\n",
    "**4.- If-else statements**\n",
    "\n",
    "**5.- For loops**\n",
    "\n",
    "**6.- While loops**\n",
    "\n",
    "**7.- Functions**"
   ]
  },
  {
   "cell_type": "code",
   "execution_count": 1,
   "id": "8a264493",
   "metadata": {},
   "outputs": [
    {
     "name": "stdout",
     "output_type": "stream",
     "text": [
      "Hello World!\n"
     ]
    }
   ],
   "source": [
    "print('Hello World!')"
   ]
  },
  {
   "cell_type": "code",
   "execution_count": 2,
   "id": "cb34e748",
   "metadata": {},
   "outputs": [
    {
     "name": "stdout",
     "output_type": "stream",
     "text": [
      "LET'S GO!\n"
     ]
    }
   ],
   "source": [
    "print(\"LET'S GO!\")"
   ]
  },
  {
   "cell_type": "markdown",
   "id": "849120c4",
   "metadata": {},
   "source": [
    "### 1.- Variables"
   ]
  },
  {
   "cell_type": "markdown",
   "id": "54e72951",
   "metadata": {},
   "source": [
    "To declare a variable you have to save it in the memory unit that we mentioned. To do that you have to asign a number or something to store to the variable. For instance, writing 20 alone will not trigger anything in the memory unit"
   ]
  },
  {
   "cell_type": "code",
   "execution_count": 3,
   "id": "1db9375e",
   "metadata": {},
   "outputs": [
    {
     "data": {
      "text/plain": [
       "20"
      ]
     },
     "execution_count": 3,
     "metadata": {},
     "output_type": "execute_result"
    }
   ],
   "source": [
    "20"
   ]
  },
  {
   "cell_type": "markdown",
   "id": "431f593a",
   "metadata": {},
   "source": [
    "Instead, you can assign variables a value like below and then this will be stored: "
   ]
  },
  {
   "cell_type": "code",
   "execution_count": 4,
   "id": "bd4030e9",
   "metadata": {},
   "outputs": [],
   "source": [
    "a = 20"
   ]
  },
  {
   "cell_type": "code",
   "execution_count": 5,
   "id": "dfd14f4b",
   "metadata": {},
   "outputs": [],
   "source": [
    "b = 10 "
   ]
  },
  {
   "cell_type": "code",
   "execution_count": 6,
   "id": "9fa64432",
   "metadata": {},
   "outputs": [
    {
     "name": "stdout",
     "output_type": "stream",
     "text": [
      "20 10\n"
     ]
    }
   ],
   "source": [
    "print(a, b)"
   ]
  },
  {
   "cell_type": "markdown",
   "id": "aef48911",
   "metadata": {},
   "source": [
    "There are different types of variables that can be used in python: "
   ]
  },
  {
   "cell_type": "code",
   "execution_count": 7,
   "id": "f3b80e56",
   "metadata": {},
   "outputs": [
    {
     "data": {
      "text/plain": [
       "int"
      ]
     },
     "execution_count": 7,
     "metadata": {},
     "output_type": "execute_result"
    }
   ],
   "source": [
    "type(a)"
   ]
  },
  {
   "cell_type": "code",
   "execution_count": 8,
   "id": "1990e852",
   "metadata": {},
   "outputs": [
    {
     "data": {
      "text/plain": [
       "int"
      ]
     },
     "execution_count": 8,
     "metadata": {},
     "output_type": "execute_result"
    }
   ],
   "source": [
    "type(b)"
   ]
  },
  {
   "cell_type": "code",
   "execution_count": 9,
   "id": "ded1e38f",
   "metadata": {},
   "outputs": [],
   "source": [
    "e = 'Hello'"
   ]
  },
  {
   "cell_type": "code",
   "execution_count": 10,
   "id": "c266f035",
   "metadata": {},
   "outputs": [
    {
     "data": {
      "text/plain": [
       "str"
      ]
     },
     "execution_count": 10,
     "metadata": {},
     "output_type": "execute_result"
    }
   ],
   "source": [
    "type(e)"
   ]
  },
  {
   "cell_type": "code",
   "execution_count": 11,
   "id": "d74b81ca",
   "metadata": {},
   "outputs": [],
   "source": [
    "f = 1.0"
   ]
  },
  {
   "cell_type": "code",
   "execution_count": 12,
   "id": "218528a8",
   "metadata": {},
   "outputs": [
    {
     "data": {
      "text/plain": [
       "float"
      ]
     },
     "execution_count": 12,
     "metadata": {},
     "output_type": "execute_result"
    }
   ],
   "source": [
    "type(f)"
   ]
  },
  {
   "cell_type": "code",
   "execution_count": 13,
   "id": "cde09f4d",
   "metadata": {},
   "outputs": [
    {
     "ename": "NameError",
     "evalue": "name 'd' is not defined",
     "output_type": "error",
     "traceback": [
      "\u001b[0;31m---------------------------------------------------------------------------\u001b[0m",
      "\u001b[0;31mNameError\u001b[0m                                 Traceback (most recent call last)",
      "Input \u001b[0;32mIn [13]\u001b[0m, in \u001b[0;36m<cell line: 1>\u001b[0;34m()\u001b[0m\n\u001b[0;32m----> 1\u001b[0m \u001b[43md\u001b[49m\n",
      "\u001b[0;31mNameError\u001b[0m: name 'd' is not defined"
     ]
    }
   ],
   "source": [
    "d"
   ]
  },
  {
   "cell_type": "code",
   "execution_count": 34,
   "id": "3df9998f",
   "metadata": {},
   "outputs": [],
   "source": [
    "d = True"
   ]
  },
  {
   "cell_type": "code",
   "execution_count": 35,
   "id": "4ed875e8",
   "metadata": {},
   "outputs": [
    {
     "data": {
      "text/plain": [
       "True"
      ]
     },
     "execution_count": 35,
     "metadata": {},
     "output_type": "execute_result"
    }
   ],
   "source": [
    "d"
   ]
  },
  {
   "cell_type": "code",
   "execution_count": 36,
   "id": "46beef94",
   "metadata": {},
   "outputs": [
    {
     "data": {
      "text/plain": [
       "bool"
      ]
     },
     "execution_count": 36,
     "metadata": {},
     "output_type": "execute_result"
    }
   ],
   "source": [
    "type(d)"
   ]
  },
  {
   "cell_type": "markdown",
   "id": "4b994d30",
   "metadata": {},
   "source": [
    "### 2.- Operations with variables"
   ]
  },
  {
   "cell_type": "markdown",
   "id": "7a3fc149",
   "metadata": {},
   "source": [
    "Python can be used as a simple calculator. It allows to perform any type of operations. "
   ]
  },
  {
   "cell_type": "code",
   "execution_count": 16,
   "id": "1b628561",
   "metadata": {},
   "outputs": [
    {
     "data": {
      "text/plain": [
       "200"
      ]
     },
     "execution_count": 16,
     "metadata": {},
     "output_type": "execute_result"
    }
   ],
   "source": [
    "a * b "
   ]
  },
  {
   "cell_type": "code",
   "execution_count": 17,
   "id": "09603bfc",
   "metadata": {},
   "outputs": [
    {
     "data": {
      "text/plain": [
       "30"
      ]
     },
     "execution_count": 17,
     "metadata": {},
     "output_type": "execute_result"
    }
   ],
   "source": [
    "a + b "
   ]
  },
  {
   "cell_type": "markdown",
   "id": "64482d41",
   "metadata": {},
   "source": [
    "The result from operations can be saved as a new variable. Here is an example on how to do it and how to combine variables to get a new one as the result: "
   ]
  },
  {
   "cell_type": "code",
   "execution_count": 18,
   "id": "2172b80e",
   "metadata": {},
   "outputs": [
    {
     "name": "stdout",
     "output_type": "stream",
     "text": [
      "30\n"
     ]
    }
   ],
   "source": [
    "c = a + b \n",
    "print(c)"
   ]
  },
  {
   "cell_type": "code",
   "execution_count": 19,
   "id": "1b167594",
   "metadata": {},
   "outputs": [],
   "source": [
    "g = c * 10 * a "
   ]
  },
  {
   "cell_type": "code",
   "execution_count": 20,
   "id": "d82dc49a",
   "metadata": {},
   "outputs": [
    {
     "name": "stdout",
     "output_type": "stream",
     "text": [
      "6000\n"
     ]
    }
   ],
   "source": [
    "print(g)"
   ]
  },
  {
   "cell_type": "code",
   "execution_count": 21,
   "id": "cc9921df",
   "metadata": {},
   "outputs": [
    {
     "data": {
      "text/plain": [
       "600.0"
      ]
     },
     "execution_count": 21,
     "metadata": {},
     "output_type": "execute_result"
    }
   ],
   "source": [
    "g / 10 "
   ]
  },
  {
   "cell_type": "code",
   "execution_count": 22,
   "id": "ee00ea89",
   "metadata": {},
   "outputs": [
    {
     "data": {
      "text/plain": [
       "0"
      ]
     },
     "execution_count": 22,
     "metadata": {},
     "output_type": "execute_result"
    }
   ],
   "source": [
    "g % 10 "
   ]
  },
  {
   "cell_type": "markdown",
   "id": "a9984a36",
   "metadata": {},
   "source": [
    "### 3.- Lists "
   ]
  },
  {
   "cell_type": "markdown",
   "id": "f02e635f",
   "metadata": {},
   "source": [
    "Lists are the most common way to store multiple values in a variable"
   ]
  },
  {
   "cell_type": "code",
   "execution_count": 40,
   "id": "15ae723d",
   "metadata": {},
   "outputs": [
    {
     "data": {
      "text/plain": [
       "['Margarita', 'Antonella', 'Tomas', 'Iñigo']"
      ]
     },
     "execution_count": 40,
     "metadata": {},
     "output_type": "execute_result"
    }
   ],
   "source": [
    "students = ['Margarita', 'Antonella', 'Tomas', 'Iñigo']\n",
    "students"
   ]
  },
  {
   "cell_type": "markdown",
   "id": "94ab54c0",
   "metadata": {},
   "source": [
    "One important thing in Python is indexing. It applies for everything: lists, dictionaries, dataframes, arrays...\n",
    "\n",
    "By indexing we understand how to access the data in a list for instance. Out of the 4 items in the list students we can select only one of them by doing students[0]. That will give us the first student in the list. "
   ]
  },
  {
   "cell_type": "code",
   "execution_count": 41,
   "id": "c76a4674",
   "metadata": {},
   "outputs": [
    {
     "data": {
      "text/plain": [
       "'Margarita'"
      ]
     },
     "execution_count": 41,
     "metadata": {},
     "output_type": "execute_result"
    }
   ],
   "source": [
    "students[0]"
   ]
  },
  {
   "cell_type": "code",
   "execution_count": 43,
   "id": "d5fdcf40",
   "metadata": {},
   "outputs": [
    {
     "data": {
      "text/plain": [
       "['Antonella', 'Tomas', 'Iñigo']"
      ]
     },
     "execution_count": 43,
     "metadata": {},
     "output_type": "execute_result"
    }
   ],
   "source": [
    "students[1:]"
   ]
  },
  {
   "cell_type": "code",
   "execution_count": 48,
   "id": "4e1dc6e7",
   "metadata": {},
   "outputs": [
    {
     "data": {
      "text/plain": [
       "['Antonella', 'Tomas']"
      ]
     },
     "execution_count": 48,
     "metadata": {},
     "output_type": "execute_result"
    }
   ],
   "source": [
    "students[1:3]"
   ]
  },
  {
   "cell_type": "code",
   "execution_count": 46,
   "id": "ff656f8d",
   "metadata": {},
   "outputs": [
    {
     "data": {
      "text/plain": [
       "['Antonella', 'Iñigo']"
      ]
     },
     "execution_count": 46,
     "metadata": {},
     "output_type": "execute_result"
    }
   ],
   "source": [
    "students[1::2]"
   ]
  },
  {
   "cell_type": "markdown",
   "id": "9966a809",
   "metadata": {},
   "source": [
    "One of the things that one can do with lists is to perform operations on it. You can, for instance, add values to the list, delete values from it, or count items. "
   ]
  },
  {
   "cell_type": "code",
   "execution_count": 49,
   "id": "662cf5b5",
   "metadata": {},
   "outputs": [],
   "source": [
    "students.append('Stefani')"
   ]
  },
  {
   "cell_type": "code",
   "execution_count": 50,
   "id": "c1768f07",
   "metadata": {},
   "outputs": [
    {
     "data": {
      "text/plain": [
       "['Margarita', 'Antonella', 'Tomas', 'Iñigo', 'Stefani']"
      ]
     },
     "execution_count": 50,
     "metadata": {},
     "output_type": "execute_result"
    }
   ],
   "source": [
    "students"
   ]
  },
  {
   "cell_type": "code",
   "execution_count": 51,
   "id": "e4620303",
   "metadata": {},
   "outputs": [],
   "source": [
    "students.remove('Tomas')"
   ]
  },
  {
   "cell_type": "code",
   "execution_count": 52,
   "id": "c305477d",
   "metadata": {},
   "outputs": [
    {
     "data": {
      "text/plain": [
       "['Margarita', 'Antonella', 'Iñigo', 'Stefani']"
      ]
     },
     "execution_count": 52,
     "metadata": {},
     "output_type": "execute_result"
    }
   ],
   "source": [
    "students"
   ]
  },
  {
   "cell_type": "code",
   "execution_count": 54,
   "id": "5a38c261",
   "metadata": {},
   "outputs": [
    {
     "data": {
      "text/plain": [
       "1"
      ]
     },
     "execution_count": 54,
     "metadata": {},
     "output_type": "execute_result"
    }
   ],
   "source": [
    "students.count('Antonella')"
   ]
  },
  {
   "cell_type": "code",
   "execution_count": 55,
   "id": "28818364",
   "metadata": {},
   "outputs": [],
   "source": [
    "students.append('Antonella')"
   ]
  },
  {
   "cell_type": "code",
   "execution_count": 57,
   "id": "b8a92c49",
   "metadata": {},
   "outputs": [
    {
     "data": {
      "text/plain": [
       "['Margarita', 'Antonella', 'Iñigo', 'Stefani', 'Antonella']"
      ]
     },
     "execution_count": 57,
     "metadata": {},
     "output_type": "execute_result"
    }
   ],
   "source": [
    "students"
   ]
  },
  {
   "cell_type": "code",
   "execution_count": 56,
   "id": "a4dac724",
   "metadata": {},
   "outputs": [
    {
     "data": {
      "text/plain": [
       "2"
      ]
     },
     "execution_count": 56,
     "metadata": {},
     "output_type": "execute_result"
    }
   ],
   "source": [
    "students.count('Antonella')"
   ]
  },
  {
   "cell_type": "markdown",
   "id": "82699508",
   "metadata": {},
   "source": [
    "### 4.- If-Else statements"
   ]
  },
  {
   "cell_type": "markdown",
   "id": "399d6ae9",
   "metadata": {},
   "source": [
    "If-else statements are used to introduce a condition for a part of the code to run. "
   ]
  },
  {
   "cell_type": "code",
   "execution_count": 32,
   "id": "a9bab1e7",
   "metadata": {},
   "outputs": [
    {
     "data": {
      "text/plain": [
       "20"
      ]
     },
     "execution_count": 32,
     "metadata": {},
     "output_type": "execute_result"
    }
   ],
   "source": [
    "a "
   ]
  },
  {
   "cell_type": "code",
   "execution_count": 25,
   "id": "035b1832",
   "metadata": {},
   "outputs": [
    {
     "name": "stdout",
     "output_type": "stream",
     "text": [
      "The variable a is equal to 20\n"
     ]
    }
   ],
   "source": [
    "if a == 20: \n",
    "    print('The variable a is equal to 20')"
   ]
  },
  {
   "cell_type": "code",
   "execution_count": 26,
   "id": "abe69377",
   "metadata": {
    "scrolled": true
   },
   "outputs": [
    {
     "name": "stdout",
     "output_type": "stream",
     "text": [
      "The variable a is different than 10\n"
     ]
    }
   ],
   "source": [
    "if a == 10:\n",
    "    print('The variable a is equal to 10')\n",
    "else: \n",
    "    print('The variable a is different than 10')"
   ]
  },
  {
   "cell_type": "code",
   "execution_count": 31,
   "id": "7a701666",
   "metadata": {},
   "outputs": [
    {
     "name": "stdout",
     "output_type": "stream",
     "text": [
      "The variable a is different than 10 and 30. Its value is 20\n"
     ]
    }
   ],
   "source": [
    "if a == 10:\n",
    "    print('The variable a is equal to 10')\n",
    "elif a == 30:\n",
    "    print('The variable a is equal to 30')\n",
    "else: \n",
    "    print(f'The variable a is different than 10 and 30. Its value is {a}')"
   ]
  },
  {
   "cell_type": "markdown",
   "id": "c2a85af6",
   "metadata": {},
   "source": [
    "### 5.- For loops"
   ]
  },
  {
   "cell_type": "markdown",
   "id": "76c68597",
   "metadata": {},
   "source": [
    "For loops are used to iterate over sequences such as the lists that we have seen. Here below you can find a set of examples:"
   ]
  },
  {
   "cell_type": "code",
   "execution_count": 63,
   "id": "1e91616e",
   "metadata": {},
   "outputs": [
    {
     "name": "stdout",
     "output_type": "stream",
     "text": [
      "Margarita\n",
      "Antonella\n",
      "Tomas\n",
      "Iñigo\n"
     ]
    }
   ],
   "source": [
    "students = ['Margarita', 'Antonella', 'Tomas', 'Iñigo']\n",
    "for el in students:\n",
    "    print(el)"
   ]
  },
  {
   "cell_type": "code",
   "execution_count": 61,
   "id": "77578a60",
   "metadata": {},
   "outputs": [
    {
     "name": "stdout",
     "output_type": "stream",
     "text": [
      "This is other student\n",
      "This is other student\n",
      "This student is Iñigo\n",
      "This is other student\n",
      "This is other student\n"
     ]
    }
   ],
   "source": [
    "for el in students: \n",
    "    if el == 'Iñigo':\n",
    "        print('This student is Iñigo')\n",
    "    else:\n",
    "        print('This is other student')"
   ]
  },
  {
   "cell_type": "code",
   "execution_count": 62,
   "id": "aebedcd5",
   "metadata": {},
   "outputs": [
    {
     "name": "stdout",
     "output_type": "stream",
     "text": [
      "[2, 3, 4, 5, 6]\n"
     ]
    }
   ],
   "source": [
    "my_list = [0, 1, 2, 3, 4]\n",
    "new_list = []\n",
    "\n",
    "for el in my_list: \n",
    "    new_list.append(el + 2)\n",
    "print(new_list)    "
   ]
  },
  {
   "cell_type": "markdown",
   "id": "825dfaff",
   "metadata": {},
   "source": [
    "### 6.- While loops"
   ]
  },
  {
   "cell_type": "markdown",
   "id": "f484db2e",
   "metadata": {},
   "source": [
    "While loops allow you to execute a set of statements as long as a condition is true. They are not as used as for loops but are part of the primitive functions of python"
   ]
  },
  {
   "cell_type": "code",
   "execution_count": 70,
   "id": "d1fb1d5f",
   "metadata": {},
   "outputs": [
    {
     "name": "stdout",
     "output_type": "stream",
     "text": [
      "5\n",
      "4\n",
      "3\n",
      "2\n",
      "1\n",
      "The new value of aa is 0 as it should be\n"
     ]
    }
   ],
   "source": [
    "aa = 5\n",
    "while aa != 0: \n",
    "    print(aa)\n",
    "    aa -= 1\n",
    "print(f'The new value of aa is {aa} as it should be')"
   ]
  },
  {
   "cell_type": "markdown",
   "id": "1a2602e3",
   "metadata": {},
   "source": [
    "### Introduction to functions"
   ]
  },
  {
   "cell_type": "markdown",
   "id": "6161ad20",
   "metadata": {},
   "source": [
    "Imagine that you have several lists and you want to do the same operation of every list. The best way to automatize things is to build a function and run every item (in this case lists) on it. "
   ]
  },
  {
   "cell_type": "code",
   "execution_count": 71,
   "id": "22726d8c",
   "metadata": {},
   "outputs": [],
   "source": [
    "def sum_two(my_list):\n",
    "    new_list = []\n",
    "    for el in my_list:\n",
    "        new_list.append(el + 2)\n",
    "    return new_list"
   ]
  },
  {
   "cell_type": "code",
   "execution_count": 73,
   "id": "8cb6a48e",
   "metadata": {},
   "outputs": [],
   "source": [
    "list1 = [0, 1, 2, 3]\n",
    "list2 = [0, -1, -2, -3]"
   ]
  },
  {
   "cell_type": "code",
   "execution_count": 76,
   "id": "f11e6959",
   "metadata": {},
   "outputs": [
    {
     "data": {
      "text/plain": [
       "[2, 3, 4, 5]"
      ]
     },
     "execution_count": 76,
     "metadata": {},
     "output_type": "execute_result"
    }
   ],
   "source": [
    "sum_two(list1)"
   ]
  },
  {
   "cell_type": "code",
   "execution_count": 77,
   "id": "979dce1d",
   "metadata": {},
   "outputs": [
    {
     "data": {
      "text/plain": [
       "[2, 1, 0, -1]"
      ]
     },
     "execution_count": 77,
     "metadata": {},
     "output_type": "execute_result"
    }
   ],
   "source": [
    "sum_two(list2)"
   ]
  },
  {
   "cell_type": "code",
   "execution_count": 78,
   "id": "d21793de",
   "metadata": {},
   "outputs": [],
   "source": [
    "def square_root(x):\n",
    "    return x ** 0.5"
   ]
  },
  {
   "cell_type": "code",
   "execution_count": 79,
   "id": "d1ef9323",
   "metadata": {},
   "outputs": [
    {
     "data": {
      "text/plain": [
       "6.0"
      ]
     },
     "execution_count": 79,
     "metadata": {},
     "output_type": "execute_result"
    }
   ],
   "source": [
    "square_root(36)"
   ]
  },
  {
   "cell_type": "code",
   "execution_count": 80,
   "id": "c1914d60",
   "metadata": {},
   "outputs": [
    {
     "data": {
      "text/plain": [
       "4.0"
      ]
     },
     "execution_count": 80,
     "metadata": {},
     "output_type": "execute_result"
    }
   ],
   "source": [
    "square_root(16)"
   ]
  },
  {
   "cell_type": "code",
   "execution_count": null,
   "id": "3b764a3d",
   "metadata": {},
   "outputs": [],
   "source": []
  }
 ],
 "metadata": {
  "kernelspec": {
   "display_name": "hynts",
   "language": "python",
   "name": "hynts"
  },
  "language_info": {
   "codemirror_mode": {
    "name": "ipython",
    "version": 3
   },
   "file_extension": ".py",
   "mimetype": "text/x-python",
   "name": "python",
   "nbconvert_exporter": "python",
   "pygments_lexer": "ipython3",
   "version": "3.8.13"
  }
 },
 "nbformat": 4,
 "nbformat_minor": 5
}
