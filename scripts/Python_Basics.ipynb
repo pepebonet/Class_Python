{
 "cells": [
  {
   "cell_type": "markdown",
   "id": "306ed9ea",
   "metadata": {},
   "source": [
    "# Welcome to Introduction to Python!\n",
    "\n",
    "The objective of the course is to introduce python to our lives and start to understand how to use it. \n",
    "\n",
    "We will start with an overview of the basics: "
   ]
  },
  {
   "cell_type": "markdown",
   "id": "8b8a1717",
   "metadata": {},
   "source": [
    "## Python Basics\n",
    "\n",
    "**1.- Variables**\n",
    "\n",
    "**2.- Operations**\n",
    "\n",
    "**3.- If-else statements**\n",
    "\n",
    "**4.- For loops**\n",
    "\n",
    "**5.- While loops**\n",
    "\n",
    "**6.- Functions**"
   ]
  },
  {
   "cell_type": "code",
   "execution_count": 1,
   "id": "f60cb66b",
   "metadata": {},
   "outputs": [
    {
     "name": "stdout",
     "output_type": "stream",
     "text": [
      "Hello World!\n"
     ]
    }
   ],
   "source": [
    "print('Hello World!')"
   ]
  },
  {
   "cell_type": "code",
   "execution_count": 2,
   "id": "7d19efe9",
   "metadata": {},
   "outputs": [
    {
     "name": "stdout",
     "output_type": "stream",
     "text": [
      "LET'S GO!\n"
     ]
    }
   ],
   "source": [
    "print(\"LET'S GO!\")"
   ]
  },
  {
   "cell_type": "markdown",
   "id": "ba54c487",
   "metadata": {},
   "source": [
    "### 1.- Variables"
   ]
  },
  {
   "cell_type": "markdown",
   "id": "7837c441",
   "metadata": {},
   "source": [
    "To declare a variable you have to save it in the memory unit that we mentioned. To do that you have to asign a number or something to store to the variable. For instance, writing 20 alone will not trigger anything in the memory unit"
   ]
  },
  {
   "cell_type": "code",
   "execution_count": 3,
   "id": "1db9375e",
   "metadata": {},
   "outputs": [
    {
     "data": {
      "text/plain": [
       "20"
      ]
     },
     "execution_count": 3,
     "metadata": {},
     "output_type": "execute_result"
    }
   ],
   "source": [
    "20"
   ]
  },
  {
   "cell_type": "markdown",
   "id": "22fb1742",
   "metadata": {},
   "source": [
    "Instead, you can assign variables a value like below and then this will be stored: "
   ]
  },
  {
   "cell_type": "code",
   "execution_count": 4,
   "id": "bd4030e9",
   "metadata": {},
   "outputs": [],
   "source": [
    "a = 20"
   ]
  },
  {
   "cell_type": "code",
   "execution_count": 5,
   "id": "1ea13e7f",
   "metadata": {},
   "outputs": [],
   "source": [
    "b = 10 "
   ]
  },
  {
   "cell_type": "code",
   "execution_count": 6,
   "id": "2804e12b",
   "metadata": {},
   "outputs": [
    {
     "name": "stdout",
     "output_type": "stream",
     "text": [
      "20 10\n"
     ]
    }
   ],
   "source": [
    "print(a, b)"
   ]
  },
  {
   "cell_type": "markdown",
   "id": "0a4e2216",
   "metadata": {},
   "source": [
    "There are different types of variables that can be used in python: "
   ]
  },
  {
   "cell_type": "code",
   "execution_count": 7,
   "id": "feec8bdc",
   "metadata": {},
   "outputs": [
    {
     "data": {
      "text/plain": [
       "int"
      ]
     },
     "execution_count": 7,
     "metadata": {},
     "output_type": "execute_result"
    }
   ],
   "source": [
    "type(a)"
   ]
  },
  {
   "cell_type": "code",
   "execution_count": 8,
   "id": "dfa3c11d",
   "metadata": {},
   "outputs": [
    {
     "data": {
      "text/plain": [
       "int"
      ]
     },
     "execution_count": 8,
     "metadata": {},
     "output_type": "execute_result"
    }
   ],
   "source": [
    "type(b)"
   ]
  },
  {
   "cell_type": "code",
   "execution_count": 9,
   "id": "922fa5c8",
   "metadata": {},
   "outputs": [],
   "source": [
    "e = 'Hello'"
   ]
  },
  {
   "cell_type": "code",
   "execution_count": 10,
   "id": "c5d1e6f5",
   "metadata": {},
   "outputs": [
    {
     "data": {
      "text/plain": [
       "str"
      ]
     },
     "execution_count": 10,
     "metadata": {},
     "output_type": "execute_result"
    }
   ],
   "source": [
    "type(e)"
   ]
  },
  {
   "cell_type": "code",
   "execution_count": 11,
   "id": "b95c6500",
   "metadata": {},
   "outputs": [],
   "source": [
    "f = 1.0"
   ]
  },
  {
   "cell_type": "code",
   "execution_count": 12,
   "id": "cd0f4007",
   "metadata": {},
   "outputs": [
    {
     "data": {
      "text/plain": [
       "float"
      ]
     },
     "execution_count": 12,
     "metadata": {},
     "output_type": "execute_result"
    }
   ],
   "source": [
    "type(f)"
   ]
  },
  {
   "cell_type": "code",
   "execution_count": 13,
   "id": "56b726a7",
   "metadata": {},
   "outputs": [
    {
     "ename": "NameError",
     "evalue": "name 'd' is not defined",
     "output_type": "error",
     "traceback": [
      "\u001b[0;31m---------------------------------------------------------------------------\u001b[0m",
      "\u001b[0;31mNameError\u001b[0m                                 Traceback (most recent call last)",
      "Input \u001b[0;32mIn [13]\u001b[0m, in \u001b[0;36m<cell line: 1>\u001b[0;34m()\u001b[0m\n\u001b[0;32m----> 1\u001b[0m \u001b[43md\u001b[49m\n",
      "\u001b[0;31mNameError\u001b[0m: name 'd' is not defined"
     ]
    }
   ],
   "source": [
    "d"
   ]
  },
  {
   "cell_type": "code",
   "execution_count": 34,
   "id": "535c67aa",
   "metadata": {},
   "outputs": [],
   "source": [
    "d = True"
   ]
  },
  {
   "cell_type": "code",
   "execution_count": 35,
   "id": "c38664d7",
   "metadata": {},
   "outputs": [
    {
     "data": {
      "text/plain": [
       "True"
      ]
     },
     "execution_count": 35,
     "metadata": {},
     "output_type": "execute_result"
    }
   ],
   "source": [
    "d"
   ]
  },
  {
   "cell_type": "code",
   "execution_count": 36,
   "id": "ce511285",
   "metadata": {},
   "outputs": [
    {
     "data": {
      "text/plain": [
       "bool"
      ]
     },
     "execution_count": 36,
     "metadata": {},
     "output_type": "execute_result"
    }
   ],
   "source": [
    "type(d)"
   ]
  },
  {
   "cell_type": "markdown",
   "id": "7c59e9c4",
   "metadata": {},
   "source": [
    "### 2.- Operations with variables"
   ]
  },
  {
   "cell_type": "markdown",
   "id": "2928c43d",
   "metadata": {},
   "source": [
    "Python can be used as a simple calculator. It allows to perform any type of operations. "
   ]
  },
  {
   "cell_type": "code",
   "execution_count": 16,
   "id": "38a71a6f",
   "metadata": {},
   "outputs": [
    {
     "data": {
      "text/plain": [
       "200"
      ]
     },
     "execution_count": 16,
     "metadata": {},
     "output_type": "execute_result"
    }
   ],
   "source": [
    "a * b "
   ]
  },
  {
   "cell_type": "code",
   "execution_count": 17,
   "id": "2f9a70d6",
   "metadata": {},
   "outputs": [
    {
     "data": {
      "text/plain": [
       "30"
      ]
     },
     "execution_count": 17,
     "metadata": {},
     "output_type": "execute_result"
    }
   ],
   "source": [
    "a + b "
   ]
  },
  {
   "cell_type": "markdown",
   "id": "e78e3285",
   "metadata": {},
   "source": [
    "The result from operations can be saved as a new variable. Here is an example on how to do it and how to combine variables to get a new one as the result: "
   ]
  },
  {
   "cell_type": "code",
   "execution_count": 18,
   "id": "fae0ddf2",
   "metadata": {},
   "outputs": [
    {
     "name": "stdout",
     "output_type": "stream",
     "text": [
      "30\n"
     ]
    }
   ],
   "source": [
    "c = a + b \n",
    "print(c)"
   ]
  },
  {
   "cell_type": "code",
   "execution_count": 19,
   "id": "db830bd4",
   "metadata": {},
   "outputs": [],
   "source": [
    "g = c * 10 * a "
   ]
  },
  {
   "cell_type": "code",
   "execution_count": 20,
   "id": "070a3163",
   "metadata": {},
   "outputs": [
    {
     "name": "stdout",
     "output_type": "stream",
     "text": [
      "6000\n"
     ]
    }
   ],
   "source": [
    "print(g)"
   ]
  },
  {
   "cell_type": "code",
   "execution_count": 21,
   "id": "21137cd1",
   "metadata": {},
   "outputs": [
    {
     "data": {
      "text/plain": [
       "600.0"
      ]
     },
     "execution_count": 21,
     "metadata": {},
     "output_type": "execute_result"
    }
   ],
   "source": [
    "g / 10 "
   ]
  },
  {
   "cell_type": "code",
   "execution_count": 22,
   "id": "7434dcec",
   "metadata": {},
   "outputs": [
    {
     "data": {
      "text/plain": [
       "0"
      ]
     },
     "execution_count": 22,
     "metadata": {},
     "output_type": "execute_result"
    }
   ],
   "source": [
    "g % 10 "
   ]
  },
  {
   "cell_type": "markdown",
   "id": "c16565a3",
   "metadata": {},
   "source": [
    "### 3.- Lists "
   ]
  },
  {
   "cell_type": "markdown",
   "id": "493f5da2",
   "metadata": {},
   "source": [
    "Lists are the most common way to store multiple values in a variable"
   ]
  },
  {
   "cell_type": "code",
   "execution_count": 40,
   "id": "79f4a437",
   "metadata": {},
   "outputs": [
    {
     "data": {
      "text/plain": [
       "['Margarita', 'Antonella', 'Tomas', 'Iñigo']"
      ]
     },
     "execution_count": 40,
     "metadata": {},
     "output_type": "execute_result"
    }
   ],
   "source": [
    "students = ['Margarita', 'Antonella', 'Tomas', 'Iñigo']\n",
    "students"
   ]
  },
  {
   "cell_type": "markdown",
   "id": "85526a34",
   "metadata": {},
   "source": [
    "One important thing in Python is indexing. It applies for everything: lists, dictionaries, dataframes, arrays...\n",
    "\n",
    "By indexing we understand how to access the data in a list for instance. Out of the 4 items in the list students we can select only one of them by doing students[0]. That will give us the first student in the list. "
   ]
  },
  {
   "cell_type": "code",
   "execution_count": 41,
   "id": "d6770803",
   "metadata": {},
   "outputs": [
    {
     "data": {
      "text/plain": [
       "'Margarita'"
      ]
     },
     "execution_count": 41,
     "metadata": {},
     "output_type": "execute_result"
    }
   ],
   "source": [
    "students[0]"
   ]
  },
  {
   "cell_type": "code",
   "execution_count": 43,
   "id": "6a7ff199",
   "metadata": {},
   "outputs": [
    {
     "data": {
      "text/plain": [
       "['Antonella', 'Tomas', 'Iñigo']"
      ]
     },
     "execution_count": 43,
     "metadata": {},
     "output_type": "execute_result"
    }
   ],
   "source": [
    "students[1:]"
   ]
  },
  {
   "cell_type": "code",
   "execution_count": 48,
   "id": "e74bd057",
   "metadata": {},
   "outputs": [
    {
     "data": {
      "text/plain": [
       "['Antonella', 'Tomas']"
      ]
     },
     "execution_count": 48,
     "metadata": {},
     "output_type": "execute_result"
    }
   ],
   "source": [
    "students[1:3]"
   ]
  },
  {
   "cell_type": "code",
   "execution_count": 46,
   "id": "8edeafbf",
   "metadata": {},
   "outputs": [
    {
     "data": {
      "text/plain": [
       "['Antonella', 'Iñigo']"
      ]
     },
     "execution_count": 46,
     "metadata": {},
     "output_type": "execute_result"
    }
   ],
   "source": [
    "students[1::2]"
   ]
  },
  {
   "cell_type": "markdown",
   "id": "086060fa",
   "metadata": {},
   "source": [
    "One of the things that one can do with lists is to perform operations on it. You can, for instance, add values to the list, delete values from it, or count items. "
   ]
  },
  {
   "cell_type": "code",
   "execution_count": 49,
   "id": "37214f2e",
   "metadata": {},
   "outputs": [],
   "source": [
    "students.append('Stefani')"
   ]
  },
  {
   "cell_type": "code",
   "execution_count": 50,
   "id": "2aaf525d",
   "metadata": {},
   "outputs": [
    {
     "data": {
      "text/plain": [
       "['Margarita', 'Antonella', 'Tomas', 'Iñigo', 'Stefani']"
      ]
     },
     "execution_count": 50,
     "metadata": {},
     "output_type": "execute_result"
    }
   ],
   "source": [
    "students"
   ]
  },
  {
   "cell_type": "code",
   "execution_count": 51,
   "id": "514a93ff",
   "metadata": {},
   "outputs": [],
   "source": [
    "students.remove('Tomas')"
   ]
  },
  {
   "cell_type": "code",
   "execution_count": 52,
   "id": "8fbfebbd",
   "metadata": {},
   "outputs": [
    {
     "data": {
      "text/plain": [
       "['Margarita', 'Antonella', 'Iñigo', 'Stefani']"
      ]
     },
     "execution_count": 52,
     "metadata": {},
     "output_type": "execute_result"
    }
   ],
   "source": [
    "students"
   ]
  },
  {
   "cell_type": "code",
   "execution_count": 54,
   "id": "e0365aaf",
   "metadata": {},
   "outputs": [
    {
     "data": {
      "text/plain": [
       "1"
      ]
     },
     "execution_count": 54,
     "metadata": {},
     "output_type": "execute_result"
    }
   ],
   "source": [
    "students.count('Antonella')"
   ]
  },
  {
   "cell_type": "code",
   "execution_count": 55,
   "id": "67f58697",
   "metadata": {},
   "outputs": [],
   "source": [
    "students.append('Antonella')"
   ]
  },
  {
   "cell_type": "code",
   "execution_count": 57,
   "id": "9037daf7",
   "metadata": {},
   "outputs": [
    {
     "data": {
      "text/plain": [
       "['Margarita', 'Antonella', 'Iñigo', 'Stefani', 'Antonella']"
      ]
     },
     "execution_count": 57,
     "metadata": {},
     "output_type": "execute_result"
    }
   ],
   "source": [
    "students"
   ]
  },
  {
   "cell_type": "code",
   "execution_count": 56,
   "id": "2aba53b7",
   "metadata": {},
   "outputs": [
    {
     "data": {
      "text/plain": [
       "2"
      ]
     },
     "execution_count": 56,
     "metadata": {},
     "output_type": "execute_result"
    }
   ],
   "source": [
    "students.count('Antonella')"
   ]
  },
  {
   "cell_type": "markdown",
   "id": "0970a155",
   "metadata": {},
   "source": [
    "### 4.- If-Else statements"
   ]
  },
  {
   "cell_type": "markdown",
   "id": "d41219d4",
   "metadata": {},
   "source": [
    "If-else statements are used to introduce a condition for a part of the code to run. "
   ]
  },
  {
   "cell_type": "code",
   "execution_count": 32,
   "id": "95ac95f7",
   "metadata": {},
   "outputs": [
    {
     "data": {
      "text/plain": [
       "20"
      ]
     },
     "execution_count": 32,
     "metadata": {},
     "output_type": "execute_result"
    }
   ],
   "source": [
    "a "
   ]
  },
  {
   "cell_type": "code",
   "execution_count": 25,
   "id": "2e771ac4",
   "metadata": {},
   "outputs": [
    {
     "name": "stdout",
     "output_type": "stream",
     "text": [
      "The variable a is equal to 20\n"
     ]
    }
   ],
   "source": [
    "if a == 20: \n",
    "    print('The variable a is equal to 20')"
   ]
  },
  {
   "cell_type": "code",
   "execution_count": 26,
   "id": "fb6ee9bb",
   "metadata": {
    "scrolled": true
   },
   "outputs": [
    {
     "name": "stdout",
     "output_type": "stream",
     "text": [
      "The variable a is different than 10\n"
     ]
    }
   ],
   "source": [
    "if a == 10:\n",
    "    print('The variable a is equal to 10')\n",
    "else: \n",
    "    print('The variable a is different than 10')"
   ]
  },
  {
   "cell_type": "code",
   "execution_count": 31,
   "id": "10188ba5",
   "metadata": {},
   "outputs": [
    {
     "name": "stdout",
     "output_type": "stream",
     "text": [
      "The variable a is different than 10 and 30. Its value is 20\n"
     ]
    }
   ],
   "source": [
    "if a == 10:\n",
    "    print('The variable a is equal to 10')\n",
    "elif a == 30:\n",
    "    print('The variable a is equal to 30')\n",
    "else: \n",
    "    print(f'The variable a is different than 10 and 30. Its value is {a}')"
   ]
  },
  {
   "cell_type": "code",
   "execution_count": null,
   "id": "7841fdf5",
   "metadata": {},
   "outputs": [],
   "source": []
  },
  {
   "cell_type": "code",
   "execution_count": 17,
   "id": "fbfa0d96",
   "metadata": {},
   "outputs": [
    {
     "data": {
      "text/plain": [
       "600"
      ]
     },
     "execution_count": 17,
     "metadata": {},
     "output_type": "execute_result"
    }
   ],
   "source": [
    "d "
   ]
  }
 ],
 "metadata": {
  "kernelspec": {
   "display_name": "hynts",
   "language": "python",
   "name": "hynts"
  },
  "language_info": {
   "codemirror_mode": {
    "name": "ipython",
    "version": 3
   },
   "file_extension": ".py",
   "mimetype": "text/x-python",
   "name": "python",
   "nbconvert_exporter": "python",
   "pygments_lexer": "ipython3",
   "version": "3.8.13"
  }
 },
 "nbformat": 4,
 "nbformat_minor": 5
}
