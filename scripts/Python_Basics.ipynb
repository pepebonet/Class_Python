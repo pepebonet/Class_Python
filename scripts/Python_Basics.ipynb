{
 "cells": [
  {
   "cell_type": "markdown",
   "id": "38fa2104",
   "metadata": {},
   "source": [
    "# Welcome to Introduction to Python!\n",
    "\n",
    "The objective of the course is to introduce python to our lives and start to understand how to use it. \n",
    "\n",
    "We will start with an overview of the basics: "
   ]
  },
  {
   "cell_type": "markdown",
   "id": "421edd63",
   "metadata": {},
   "source": [
    "## Python Basics\n",
    "\n",
    "**1.- Variables**\n",
    "\n",
    "**2.- Operations**\n",
    "\n",
    "**3.- If-else statements**\n",
    "\n",
    "**4.- For loops**\n",
    "\n",
    "**5.- While loops**\n",
    "\n",
    "**6.- Functions**"
   ]
  },
  {
   "cell_type": "code",
   "execution_count": 1,
   "id": "3d27fef5",
   "metadata": {},
   "outputs": [
    {
     "name": "stdout",
     "output_type": "stream",
     "text": [
      "Hello World!\n"
     ]
    }
   ],
   "source": [
    "print('Hello World!')"
   ]
  },
  {
   "cell_type": "code",
   "execution_count": 2,
   "id": "06be430d",
   "metadata": {},
   "outputs": [
    {
     "name": "stdout",
     "output_type": "stream",
     "text": [
      "LET'S GO!\n"
     ]
    }
   ],
   "source": [
    "print(\"LET'S GO!\")"
   ]
  },
  {
   "cell_type": "markdown",
   "id": "6e14c46e",
   "metadata": {},
   "source": [
    "### 1.- Variables"
   ]
  },
  {
   "cell_type": "markdown",
   "id": "af39b1bc",
   "metadata": {},
   "source": [
    "To declare a variable you have to save it in the memory unit that we mentioned. To do that you have to asign a number or something to store to the variable. For instance, writing 20 alone will not trigger anything in the memory unit"
   ]
  },
  {
   "cell_type": "code",
   "execution_count": 3,
   "id": "1db9375e",
   "metadata": {},
   "outputs": [
    {
     "data": {
      "text/plain": [
       "20"
      ]
     },
     "execution_count": 3,
     "metadata": {},
     "output_type": "execute_result"
    }
   ],
   "source": [
    "20"
   ]
  },
  {
   "cell_type": "markdown",
   "id": "ba59f478",
   "metadata": {},
   "source": [
    "Instead, you can assign variables a value like below and then this will be stored: "
   ]
  },
  {
   "cell_type": "code",
   "execution_count": 4,
   "id": "bd4030e9",
   "metadata": {},
   "outputs": [],
   "source": [
    "a = 20"
   ]
  },
  {
   "cell_type": "code",
   "execution_count": 5,
   "id": "ad9d6a82",
   "metadata": {},
   "outputs": [],
   "source": [
    "b = 10 "
   ]
  },
  {
   "cell_type": "code",
   "execution_count": 6,
   "id": "e2ae1365",
   "metadata": {},
   "outputs": [
    {
     "name": "stdout",
     "output_type": "stream",
     "text": [
      "20 10\n"
     ]
    }
   ],
   "source": [
    "print(a, b)"
   ]
  },
  {
   "cell_type": "markdown",
   "id": "a07fee2b",
   "metadata": {},
   "source": [
    "There are different types of variables that can be used in python: "
   ]
  },
  {
   "cell_type": "code",
   "execution_count": 7,
   "id": "6be4bd07",
   "metadata": {},
   "outputs": [
    {
     "data": {
      "text/plain": [
       "int"
      ]
     },
     "execution_count": 7,
     "metadata": {},
     "output_type": "execute_result"
    }
   ],
   "source": [
    "type(a)"
   ]
  },
  {
   "cell_type": "code",
   "execution_count": 8,
   "id": "0778106b",
   "metadata": {},
   "outputs": [
    {
     "data": {
      "text/plain": [
       "int"
      ]
     },
     "execution_count": 8,
     "metadata": {},
     "output_type": "execute_result"
    }
   ],
   "source": [
    "type(b)"
   ]
  },
  {
   "cell_type": "code",
   "execution_count": 9,
   "id": "352b0804",
   "metadata": {},
   "outputs": [],
   "source": [
    "e = 'Hello'"
   ]
  },
  {
   "cell_type": "code",
   "execution_count": 10,
   "id": "4e3727d5",
   "metadata": {},
   "outputs": [
    {
     "data": {
      "text/plain": [
       "str"
      ]
     },
     "execution_count": 10,
     "metadata": {},
     "output_type": "execute_result"
    }
   ],
   "source": [
    "type(e)"
   ]
  },
  {
   "cell_type": "code",
   "execution_count": 11,
   "id": "66d5d581",
   "metadata": {},
   "outputs": [],
   "source": [
    "f = 1.0"
   ]
  },
  {
   "cell_type": "code",
   "execution_count": 12,
   "id": "5b9a790b",
   "metadata": {},
   "outputs": [
    {
     "data": {
      "text/plain": [
       "float"
      ]
     },
     "execution_count": 12,
     "metadata": {},
     "output_type": "execute_result"
    }
   ],
   "source": [
    "type(f)"
   ]
  },
  {
   "cell_type": "code",
   "execution_count": 13,
   "id": "dc0d79b5",
   "metadata": {},
   "outputs": [
    {
     "ename": "NameError",
     "evalue": "name 'd' is not defined",
     "output_type": "error",
     "traceback": [
      "\u001b[0;31m---------------------------------------------------------------------------\u001b[0m",
      "\u001b[0;31mNameError\u001b[0m                                 Traceback (most recent call last)",
      "Input \u001b[0;32mIn [13]\u001b[0m, in \u001b[0;36m<cell line: 1>\u001b[0;34m()\u001b[0m\n\u001b[0;32m----> 1\u001b[0m \u001b[43md\u001b[49m\n",
      "\u001b[0;31mNameError\u001b[0m: name 'd' is not defined"
     ]
    }
   ],
   "source": [
    "d"
   ]
  },
  {
   "cell_type": "code",
   "execution_count": 34,
   "id": "9f6b687b",
   "metadata": {},
   "outputs": [],
   "source": [
    "d = True"
   ]
  },
  {
   "cell_type": "code",
   "execution_count": 35,
   "id": "223547a9",
   "metadata": {},
   "outputs": [
    {
     "data": {
      "text/plain": [
       "True"
      ]
     },
     "execution_count": 35,
     "metadata": {},
     "output_type": "execute_result"
    }
   ],
   "source": [
    "d"
   ]
  },
  {
   "cell_type": "code",
   "execution_count": 36,
   "id": "5925c421",
   "metadata": {},
   "outputs": [
    {
     "data": {
      "text/plain": [
       "bool"
      ]
     },
     "execution_count": 36,
     "metadata": {},
     "output_type": "execute_result"
    }
   ],
   "source": [
    "type(d)"
   ]
  },
  {
   "cell_type": "markdown",
   "id": "2456783f",
   "metadata": {},
   "source": [
    "### 2.- Operations"
   ]
  },
  {
   "cell_type": "markdown",
   "id": "7c0388f2",
   "metadata": {},
   "source": [
    "Python can be used as a simple calculator. It allows to perform any type of operations. "
   ]
  },
  {
   "cell_type": "code",
   "execution_count": 16,
   "id": "c65eb8b1",
   "metadata": {},
   "outputs": [
    {
     "data": {
      "text/plain": [
       "200"
      ]
     },
     "execution_count": 16,
     "metadata": {},
     "output_type": "execute_result"
    }
   ],
   "source": [
    "a * b "
   ]
  },
  {
   "cell_type": "code",
   "execution_count": 17,
   "id": "02231ff5",
   "metadata": {},
   "outputs": [
    {
     "data": {
      "text/plain": [
       "30"
      ]
     },
     "execution_count": 17,
     "metadata": {},
     "output_type": "execute_result"
    }
   ],
   "source": [
    "a + b "
   ]
  },
  {
   "cell_type": "markdown",
   "id": "63e4afc7",
   "metadata": {},
   "source": [
    "The result from operations can be saved as a new variable. Here is an example on how to do it and how to combine variables to get a new one as the result: "
   ]
  },
  {
   "cell_type": "code",
   "execution_count": 18,
   "id": "0f102a0c",
   "metadata": {},
   "outputs": [
    {
     "name": "stdout",
     "output_type": "stream",
     "text": [
      "30\n"
     ]
    }
   ],
   "source": [
    "c = a + b \n",
    "print(c)"
   ]
  },
  {
   "cell_type": "code",
   "execution_count": 19,
   "id": "a4257597",
   "metadata": {},
   "outputs": [],
   "source": [
    "g = c * 10 * a "
   ]
  },
  {
   "cell_type": "code",
   "execution_count": 20,
   "id": "b046f39c",
   "metadata": {},
   "outputs": [
    {
     "name": "stdout",
     "output_type": "stream",
     "text": [
      "6000\n"
     ]
    }
   ],
   "source": [
    "print(g)"
   ]
  },
  {
   "cell_type": "code",
   "execution_count": 21,
   "id": "f1c3b642",
   "metadata": {},
   "outputs": [
    {
     "data": {
      "text/plain": [
       "600.0"
      ]
     },
     "execution_count": 21,
     "metadata": {},
     "output_type": "execute_result"
    }
   ],
   "source": [
    "g / 10 "
   ]
  },
  {
   "cell_type": "code",
   "execution_count": 22,
   "id": "716d56d1",
   "metadata": {},
   "outputs": [
    {
     "data": {
      "text/plain": [
       "0"
      ]
     },
     "execution_count": 22,
     "metadata": {},
     "output_type": "execute_result"
    }
   ],
   "source": [
    "g % 10 "
   ]
  },
  {
   "cell_type": "markdown",
   "id": "3e2302f4",
   "metadata": {},
   "source": [
    "### 3.- If-Else statements"
   ]
  },
  {
   "cell_type": "markdown",
   "id": "1da7675b",
   "metadata": {},
   "source": [
    "If-else statements are used to introduce a condition for a part of the code to run. "
   ]
  },
  {
   "cell_type": "code",
   "execution_count": 32,
   "id": "b71541b2",
   "metadata": {},
   "outputs": [
    {
     "data": {
      "text/plain": [
       "20"
      ]
     },
     "execution_count": 32,
     "metadata": {},
     "output_type": "execute_result"
    }
   ],
   "source": [
    "a "
   ]
  },
  {
   "cell_type": "code",
   "execution_count": 25,
   "id": "68a7ac6b",
   "metadata": {},
   "outputs": [
    {
     "name": "stdout",
     "output_type": "stream",
     "text": [
      "The variable a is equal to 20\n"
     ]
    }
   ],
   "source": [
    "if a == 20: \n",
    "    print('The variable a is equal to 20')"
   ]
  },
  {
   "cell_type": "code",
   "execution_count": 26,
   "id": "743cba28",
   "metadata": {
    "scrolled": true
   },
   "outputs": [
    {
     "name": "stdout",
     "output_type": "stream",
     "text": [
      "The variable a is different than 10\n"
     ]
    }
   ],
   "source": [
    "if a == 10:\n",
    "    print('The variable a is equal to 10')\n",
    "else: \n",
    "    print('The variable a is different than 10')"
   ]
  },
  {
   "cell_type": "code",
   "execution_count": 31,
   "id": "b2bf93e9",
   "metadata": {},
   "outputs": [
    {
     "name": "stdout",
     "output_type": "stream",
     "text": [
      "The variable a is different than 10 and 30. Its value is 20\n"
     ]
    }
   ],
   "source": [
    "if a == 10:\n",
    "    print('The variable a is equal to 10')\n",
    "elif a == 30:\n",
    "    print('The variable a is equal to 30')\n",
    "else: \n",
    "    print(f'The variable a is different than 10 and 30. Its value is {a}')"
   ]
  },
  {
   "cell_type": "code",
   "execution_count": null,
   "id": "ea65a35c",
   "metadata": {},
   "outputs": [],
   "source": []
  }
 ],
 "metadata": {
  "kernelspec": {
   "display_name": "hynts",
   "language": "python",
   "name": "hynts"
  },
  "language_info": {
   "codemirror_mode": {
    "name": "ipython",
    "version": 3
   },
   "file_extension": ".py",
   "mimetype": "text/x-python",
   "name": "python",
   "nbconvert_exporter": "python",
   "pygments_lexer": "ipython3",
   "version": "3.8.13"
  }
 },
 "nbformat": 4,
 "nbformat_minor": 5
}
